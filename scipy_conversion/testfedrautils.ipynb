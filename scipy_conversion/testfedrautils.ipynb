{
 "cells": [
  {
   "cell_type": "markdown",
   "metadata": {},
   "source": [
    "# Couples information and utilities\n",
    "First, let us import the required modules.\n",
    "\n",
    "Pre-requisites: \n",
    "* PYROOT \n",
    "* FEDRA\n",
    "* the scipy framework (numpy, pandas, matplotlib)\n",
    "\n",
    "If you do not launch it from the same folder of desy19_fedra_utils.py, you also need to add the path to your desy19_fedrautils.py to PYTHONPATH,\n",
    "by launching in a terminal\n",
    "\n",
    "export PYTHONPATH=$PYTHONPATH:/yourpathtothemacro/"
   ]
  },
  {
   "cell_type": "code",
   "execution_count": null,
   "metadata": {
    "tags": []
   },
   "outputs": [],
   "source": [
    "import pandas as pd\n",
    "import desy19_fedrautils"
   ]
  },
  {
   "cell_type": "markdown",
   "metadata": {},
   "source": [
    "## DataFrame content\n",
    "The csv file contains all the segments extracted from the simulation, in the various plates. Let's open it and look at it"
   ]
  },
  {
   "cell_type": "code",
   "execution_count": null,
   "metadata": {},
   "outputs": [],
   "source": [
    "df = pd.read_csv(\"RUN3.csv\")\n",
    "df"
   ]
  },
  {
   "cell_type": "markdown",
   "metadata": {},
   "source": [
    "## Script to add track information\n",
    "As you can see, the couples are here, but not the track information (from linked_tracks.root).\n",
    "We can, however, add it as an additional column. \n",
    "First, I want to add track info to the dataframe.\n",
    "I read the one saved in the csv"
   ]
  },
  {
   "cell_type": "markdown",
   "metadata": {},
   "source": [
    "Then, I execute the function from the utility"
   ]
  },
  {
   "cell_type": "code",
   "execution_count": null,
   "metadata": {
    "tags": []
   },
   "outputs": [],
   "source": [
    "dfwithtracks = desy19_fedrautils.addtrackindex(df,\"b000003.0.0.0.trk.root\")"
   ]
  },
  {
   "cell_type": "markdown",
   "metadata": {},
   "source": [
    "It worked, now I can access the segments belonging to a given track"
   ]
  },
  {
   "cell_type": "code",
   "execution_count": null,
   "metadata": {},
   "outputs": [],
   "source": [
    "dfwithtracks.query(\"TrackID==100\")"
   ]
  },
  {
   "cell_type": "markdown",
   "metadata": {},
   "source": [
    "The merge is performed by keeping all the segments, not only the ones which have been tracked. Missing ones will be have \"NAN\" as TrackID. I take a segment as an example (loc[rownumber][\"ColumnName\"])."
   ]
  },
  {
   "cell_type": "code",
   "execution_count": null,
   "metadata": {},
   "outputs": [],
   "source": [
    "dfwithtracks.loc[1][\"TrackID\"]"
   ]
  },
  {
   "cell_type": "code",
   "execution_count": null,
   "metadata": {},
   "outputs": [],
   "source": [
    "dfonlytracked = dfwithtracks.query(\"TrackID>0\")"
   ]
  },
  {
   "cell_type": "code",
   "execution_count": null,
   "metadata": {},
   "outputs": [],
   "source": [
    "from __future__ import division\n",
    "len(dfonlytracked.query(\"PID==28\"))/len(dfwithtracks.query(\"PID==28\"))"
   ]
  },
  {
   "cell_type": "markdown",
   "metadata": {},
   "source": [
    "## Writing your own RUN#.csv\n",
    "To prepare your RUN.csv, you need to go in the b00000# folder with all the couple folders, then build the dataframe. If you have a lot of couples (big simulation, background, etc.), it may require some time"
   ]
  },
  {
   "cell_type": "code",
   "execution_count": null,
   "metadata": {},
   "outputs": [],
   "source": [
    "df3 = desy19_fedrautils.builddataframe(3) #insert the run number"
   ]
  },
  {
   "cell_type": "code",
   "execution_count": null,
   "metadata": {},
   "outputs": [],
   "source": []
  }
 ],
 "metadata": {
  "kernelspec": {
   "display_name": "Python 2.7.17 64-bit",
   "language": "python",
   "name": "python271764bit074d70eac52a4d6f95d951bf809da646"
  },
  "language_info": {
   "codemirror_mode": {
    "name": "ipython",
    "version": 2
   },
   "file_extension": ".py",
   "mimetype": "text/x-python",
   "name": "python",
   "nbconvert_exporter": "python",
   "pygments_lexer": "ipython2",
   "version": "2.7.17"
  }
 },
 "nbformat": 4,
 "nbformat_minor": 2
}
