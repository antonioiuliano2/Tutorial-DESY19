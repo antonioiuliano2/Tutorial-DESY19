{
 "cells": [
  {
   "cell_type": "markdown",
   "metadata": {
    "slideshow": {
     "slide_type": "slide"
    }
   },
   "source": [
    "# Introduzione a FairShip\n",
    "\n",
    "FairShip è il software che usiamo per simulare tutti gli eventi di interesse per i rivelatori dell'esperimento **SHiP**. E' basato sul framework del software FairROOT e utilizza la geometria e le informazioni generali del nostro apparato.\n",
    "\n",
    "Io ho usato questo software per caricare la geometria dell'apparato di SHiP DESY.\n",
    "\n",
    "Scopo di questa breve guida è lanciare una simulazione e testarla.\n",
    "\n",
    "Prima però, una nota:\n",
    "comandi con ! in questo tutorial indicano i comandi di bash, che lanceresti sul tuo terminale. Per esempio ls corrisponde qui a:"
   ]
  },
  {
   "cell_type": "code",
   "execution_count": 1,
   "metadata": {
    "slideshow": {
     "slide_type": "subslide"
    }
   },
   "outputs": [
    {
     "name": "stdout",
     "output_type": "stream",
     "text": [
      "FairShip_diving.ipynb  notebook.tex  pythia8_conf.txt  testdir\r\n"
     ]
    }
   ],
   "source": [
    "!ls"
   ]
  },
  {
   "cell_type": "markdown",
   "metadata": {
    "slideshow": {
     "slide_type": "slide"
    }
   },
   "source": [
    "## Lanciare una simulazione di elettroni\n",
    "$FAIRSHIP/macro/run_simScript.py è il codice generale per le simulazione di FairShip. Ha molte opzioni, a seconda della simulazione che si vuole utilizzare.\n",
    "\n",
    "Nel nostro caso, utilizziamo le opzioni da me inserite nella configurazione DESY19 per simulare un fascio di elettroni nel bersaglio. Comunemente, simulazioni del genere sono dette Particle Gun (PG), perché non simuliamo eventi particolari, ma ci limitiamo a ***sparare*** un fascio di particelle. L'elettrone ha codice PDG 11\n",
    "\n",
    "In questo caso la sintassi è la seguente: \n",
    "\n",
    "python $FAIRSHIP/macro/run_simScript.py --desy19 nrun --PG --pID 11 -n nevents -o outpudir\n",
    "\n",
    "outputdir è la cartella dove inserire il risultato della simulazione.\n",
    "\n",
    "\n",
    "Vogliamo simulare 1000 elettroni nella configurazione RUN5. Per fare ciò lanciamo il comando"
   ]
  },
  {
   "cell_type": "code",
   "execution_count": 2,
   "metadata": {
    "slideshow": {
     "slide_type": "subslide"
    }
   },
   "outputs": [
    {
     "name": "stdout",
     "output_type": "stream",
     "text": [
      "FairShip setup for PG to produce 1000 events\n",
      "[INFO] FairRootManager::OpenOutFile(\"testdir/ship.conical.PG_11-TGeant4.root\")\n",
      "[INFO] Media file used: /home/antonio/SHIPBuild/sw/ubuntu1710_x86-64/FairShip/master-1/geometry/media.geo\n",
      "[INFO] ==============  FairRunSim: Initialising simulation run ==============\n",
      "Info in <TGeoManager::TGeoManager>: Geometry FAIRGeom, FAIR geometry created\n",
      "[INFO] FairGeoMedia: Read media \n",
      "\n",
      "************************************************************* \n",
      "     initialisation for run id 1582715164\n",
      "************************************************************* \n",
      "[INFO] ---------------User config is used: g4Config.C\n",
      "[INFO] ---G4VMC macro  path for Configuration (g4libs.C) is used: /home/antonio/SHIPBuild/sw/ubuntu1710_x86-64/GEANT4_VMC/v3-6-ship-5/share/examples/macro/\n",
      "[INFO] ---User path for Configuration (g4Config.C) is used: /home/antonio/SHIPBuild/sw/ubuntu1710_x86-64/FairShip/master-1/gconfig\n",
      "[INFO] ---User path for Cuts and Processes (SetCuts.C) is used: /home/antonio/SHIPBuild/sw/ubuntu1710_x86-64/FairShip/master-1/gconfig\n",
      "Loading Geant4 libraries (using geant4-config) ...\n",
      "34\n",
      "Loading g4root library ...\n",
      "Loading geant4vmc library ...\n",
      "Loading mtroot library ...\n",
      "\n",
      "=============================================================\n",
      " Geant4 Virtual Monte Carlo \n",
      " Version 3.6 ( 23 January 2018 )\n",
      " WWW : http://root.cern.ch/drupal/content/geant4-vmc\n",
      "=============================================================\n",
      "\n",
      "Info in <TGeoManager::SetTopVolume>: Top volume is cave. Master volume is cave\n",
      "Info in <TGeoNavigator::BuildCache>: --- Maximum geometry depth set to 100\n",
      "Info in <TGeoManager::CheckGeometry>: Fixing runtime shapes...\n",
      "Info in <TGeoManager::CheckGeometry>: ...Nothing to fix\n",
      "Info in <TGeoManager::CloseGeometry>: Counting nodes...\n",
      "Info in <TGeoManager::Voxelize>: Voxelizing...\n",
      "Info in <TGeoManager::CloseGeometry>: Building cache...\n",
      "Info in <TGeoManager::CountLevels>: max level = 2, max placements = 115\n",
      "Info in <TGeoManager::CloseGeometry>: 120 nodes/ 8 volume UID's in FAIR geometry\n",
      "Info in <TGeoManager::CloseGeometry>: ----------------modeler ready----------------\n",
      "[INFO] TGeometry will be imported to VMC\n",
      "\n",
      "Info in <TObject::SetNavigator>: TG4RootNavigator created and registered to G4TransportationManager\n",
      "isMaster=1\n",
      "Running TVirtualMCApplication::ConstructGeometry\n",
      "*************************************************************\n",
      " Geant4 version Name: geant4-10-03-patch-02    (27-July-2017)\n",
      "                      Copyright : Geant4 Collaboration\n",
      "                      Reference : NIM A 506 (2003), 250-303\n",
      "                            WWW : http://cern.ch/geant4\n",
      "*************************************************************\n",
      "\n",
      "Info in <TObject::Initialize>: Creating G4 hierarchy ...\n",
      "Info in <TGeoManager::ConvertReflections>: Converting reflections in: FAIRGeom - FAIR geometry ...\n",
      "Info in <TGeoManager::ConvertReflections>: Done\n",
      "===> GEANT4 materials created and mapped to TGeo ones...\n",
      "===> GEANT4 physical volumes created and mapped to TGeo hierarchy...\n",
      "### INFO: TG4RootDetectorConstruction::Construct() finished\n",
      "TG4PostDetConstruction::Initialize\n",
      "G4 Stat: instantiated 8 logical volumes \n",
      "                      119 physical volumes\n",
      "Info in <TObject::ConnectToG4>: ROOT detector construction class connected to G4RunManager\n",
      "Adding HadronPhysicsList QGSP_BERT_HP_PEN\n",
      "G4PhysListFactory::GetReferencePhysList <QGSP_BERT_HP_PEN>  EMoption= 6\n",
      "<<< Geant4 Physics List simulation engine: QGSP_BERT_HP 3.0\n",
      "\n",
      "\n",
      "<<< Reference Physics List QGSP_BERT_HP_PEN is built\n",
      "\n",
      "Adding SpecialPhysicsList stepLimiter+specialCuts+\n",
      "### TG4SpecialControlsV2 constructed\n",
      "Visualization Manager instantiating with verbosity \"warnings (3)\"...\n",
      " -I g4Config() using g4conf  macro: /home/antonio/SHIPBuild/sw/ubuntu1710_x86-64/FairShip/master-1/gconfig/g4config.in\n",
      "You are setting a new verbose level for Particle HP package.\n",
      "the new value will be used in whole of the Particle HP package, i.e., models and cross sections for Capture, Elastic, Fission and Inelastic interaction.\n",
      "SetCuts Macro: Setting Processes..\n",
      "SetCuts Macro: Setting cuts..\n",
      "TG4RootDetectorConstruction::ConstructSDandField\n",
      "TG4PostDetConstruction::InitializeSDandField\n",
      "[INFO] FairMCApplication::InitGeometry: 0\n",
      "[INFO] Simulation RunID: 1582715164\n",
      "### INFO: TG4RootDetectorConstruction::ConstructSDandField finished\n",
      "/home/antonio/SHIPBuild/sw/ubuntu1710_x86-64/GEANT4/v10.3.2-4/share/Geant4-10.3.2/data/G4NDL4.5\n",
      "@@@ G4ParticleHPInelastic instantiated for particle neutron data directory variable is G4NEUTRONHPDATA pointing to /home/antonio/SHIPBuild/sw/ubuntu1710_x86-64/GEANT4/v10.3.2-4/share/Geant4-10.3.2/data/G4NDL4.5/Inelastic\n",
      "@@@ G4ParticleHPInelasticData instantiated for particle neutron data directory variable is G4NEUTRONHPDATA pointing to /home/antonio/SHIPBuild/sw/ubuntu1710_x86-64/GEANT4/v10.3.2-4/share/Geant4-10.3.2/data/G4NDL4.5\n",
      "Available UI session types: [ GAG, tcsh, csh ]\n",
      "\n",
      "**********************************************\n",
      "    GEANT4 Geometry statistics: \n",
      "              8 logical volumes\n",
      "            119 physical volumes\n",
      "              4 materials\n",
      "              4 user limits\n",
      "              8 sensitive detectors\n",
      "**********************************************\n",
      "\n",
      "[INFO] Monte Carlo Engine Initialisation with: TGeant4\n",
      "\n",
      "GammaToMuPair:  gamma->mu+mu- Bethe Heitler process, SubType= 15\n",
      "        good cross section parametrization from 422.633 MeV to 1e+12 GeV for all Z.\n",
      "\n",
      "AnnihiToMuPair:  e+e->mu+mu- annihilation, atomic e- at rest, SubType=.6\n",
      "        threshold at 43.6931 GeV good description up to 1000 TeV for all Z.\n",
      "@@@ G4ParticleHPInelastic instantiated for particle neutron data directory variable is G4NEUTRONHPDATA pointing to /home/antonio/SHIPBuild/sw/ubuntu1710_x86-64/GEANT4/v10.3.2-4/share/Geant4-10.3.2/data/G4NDL4.5/Inelastic\n",
      "=======================================================================\n",
      "======       Pre-compound/De-excitation Physics Parameters     ========\n",
      "=======================================================================\n",
      "Type of pre-compound inverse x-section              3\n",
      "Type of de-excitation inverse x-section             3\n",
      "Min excitation energy (keV)                         0.01\n",
      "Level density (1/MeV)                               0.1\n",
      "Time limit for long lived isomeres (ns)             1e+12\n",
      "Use new data files                                  1\n",
      "Use complete data files                             0\n",
      "Correlated gamma emission flag                      0\n",
      "=======================================================================\n",
      "Number of de-excitation channels                    8\n",
      "[INFO] ***  FairBaseParSet written to ROOT file   version: 1\n",
      "[INFO] ***  FairGeoParSet written to ROOT file   version: 1\n",
      "---------------------------------------------------------------------------\n",
      "FairBaseContFact:  Factory for parameter containers in libSts\n",
      "---------------------------------------------------------------------------\n",
      "FairBaseParSet\tclass for parameter io\n",
      "     actual context:  DefaultContext\n",
      "FairGeoParSet\tclass for Geo parameter\n",
      "     actual context:  DefaultContext\n",
      "---------------------------------------------------------------------------\n",
      "DESYContFact:  Factory for parameter containers in libEmuTarget\n",
      "---------------------------------------------------------------------------\n",
      "--------------------------------------------------------------------------------\n",
      "--------------  actual containers in runtime database  -------------------------\n",
      "FairBaseParSet                                 class for parameter io\n",
      "FairGeoParSet                                  class for Geo parameter\n",
      "--------------  runs, versions  ------------------------------------------------\n",
      "run id\n",
      "  container                                        1st-inp    2nd-inp    output\n",
      "run: 1582715164\n",
      "  FairBaseParSet                                1582715164         -1          1\n",
      "  FairGeoParSet                                 1582715164         -1          1\n",
      "--------------  input/output  --------------------------------------------------\n",
      "first input: none\n",
      "second input: none\n",
      "output:\n",
      "OBJ: FairParRootFile\ttestdir/ship.params.conical.PG_11-TGeant4.root\t : 0 at: 0x55a07ccbc890\n",
      "Root file I/O testdir/ship.params.conical.PG_11-TGeant4.root is open\n",
      "detector I/Os:  FairGenericParIo\n",
      " \n",
      "Macro finished succesfully.\n",
      "Output file is  testdir/ship.conical.PG_11-TGeant4.root\n",
      "Parameter file is  testdir/ship.params.conical.PG_11-TGeant4.root\n",
      "Real time  72.3533608913  s, CPU time  71.0 s\n"
     ]
    },
    {
     "name": "stdout",
     "output_type": "stream",
     "text": [
      "make suicid, until better solution found to ROOT/genfit interference\n",
      "Terminated\n"
     ]
    }
   ],
   "source": [
    "!python $FAIRSHIP/macro/run_simScript.py --desy19 5 --PG --pID 11 -n 1000 -o testdir"
   ]
  },
  {
   "cell_type": "markdown",
   "metadata": {
    "slideshow": {
     "slide_type": "slide"
    }
   },
   "source": [
    " ## Output della simulazione\n",
    " La simulazione produce un file di geometria e un file di simulazione. In questo tutorial ci limiteremo a dare un'occhiata veloce a entrambi:\n"
   ]
  },
  {
   "cell_type": "code",
   "execution_count": 3,
   "metadata": {
    "slideshow": {
     "slide_type": "subslide"
    }
   },
   "outputs": [
    {
     "name": "stdout",
     "output_type": "stream",
     "text": [
      "geofile_full.conical.PG_11-TGeant4.root  ship.conical.Pythia8-TGeant4.root\r\n",
      "ship.conical.PG_11-TGeant4.root\t\t ship.params.conical.PG_11-TGeant4.root\r\n"
     ]
    }
   ],
   "source": [
    "!ls testdir"
   ]
  },
  {
   "cell_type": "markdown",
   "metadata": {
    "slideshow": {
     "slide_type": "slide"
    }
   },
   "source": [
    " ### File della geometria\n",
    " \n",
    "Il file della geometria è chiamato geofile_full.conical.PG_11-TGeant4.root. Contiene le informazioni dei rivelatori che abbiamo simulato. Per analizzarlo, ci sono due modi: elencare testualmente i dettagli o visualizzarlo graficamente:\n",
    "\n",
    "### Visualizzazione grafica\n",
    "Possiamo lanciare alcumi comandi in ROOT per richiedere i volumi del nostro rivelatore.\n",
    "Importando ROOT nell'ambiente di FairShip, tutte le librerie richieste verranno caricate"
   ]
  },
  {
   "cell_type": "code",
   "execution_count": 4,
   "metadata": {
    "slideshow": {
     "slide_type": "subslide"
    }
   },
   "outputs": [
    {
     "name": "stdout",
     "output_type": "stream",
     "text": [
      "Welcome to JupyROOT 6.18/00\n"
     ]
    }
   ],
   "source": [
    "import ROOT as r"
   ]
  },
  {
   "cell_type": "markdown",
   "metadata": {
    "slideshow": {
     "slide_type": "slide"
    }
   },
   "source": [
    "Quindi importiamo la geometria in quello che si chiama un ***TGeoManager***, una libreria di ROOT per gestire i volumi geometrici"
   ]
  },
  {
   "cell_type": "code",
   "execution_count": 5,
   "metadata": {
    "slideshow": {
     "slide_type": "subslide"
    }
   },
   "outputs": [
    {
     "name": "stderr",
     "output_type": "stream",
     "text": [
      "Info in <TGeoManager::Import>: Reading geometry from file: testdir/geofile_full.conical.PG_11-TGeant4.root\n",
      "Info in <TGeoManager::CloseGeometry>: Geometry loaded from file...\n",
      "Info in <TGeoManager::SetTopVolume>: Top volume is cave. Master volume is cave\n",
      "Info in <TGeoNavigator::BuildCache>: --- Maximum geometry depth set to 100\n",
      "Info in <TGeoManager::Voxelize>: Voxelizing...\n",
      "Info in <TGeoManager::CountLevels>: max level = 2, max placements = 115\n",
      "Info in <TGeoManager::CloseGeometry>: 120 nodes/ 8 volume UID's in FAIR geometry\n",
      "Info in <TGeoManager::CloseGeometry>: ----------------modeler ready----------------\n"
     ]
    }
   ],
   "source": [
    "DESYgeometry = r.TGeoManager.Import(\"testdir/geofile_full.conical.PG_11-TGeant4.root\") "
   ]
  },
  {
   "cell_type": "markdown",
   "metadata": {
    "slideshow": {
     "slide_type": "slide"
    }
   },
   "source": [
    "Chiediamo di disegnare tutto accedendo al volume ***top***, il nostro mondo"
   ]
  },
  {
   "cell_type": "code",
   "execution_count": 6,
   "metadata": {
    "slideshow": {
     "slide_type": "subslide"
    }
   },
   "outputs": [
    {
     "name": "stderr",
     "output_type": "stream",
     "text": [
      "Info in <TGeoManager::SetVisLevel>: Automatic visible depth disabled\n",
      "Info in <TCanvas::MakeDefCanvas>:  created default TCanvas with name c1\n"
     ]
    },
    {
     "data": {
      "text/html": [
       "\n",
       "<div id=\"root_plot_1\"\n",
       "     style=\"width: 600px; height: 600px\">\n",
       "</div>\n",
       "\n",
       "<script>\n",
       " requirejs.config({\n",
       "     paths: {\n",
       "       'JSRootCore' : 'https://root.cern.ch/js/notebook//scripts/JSRootCore',\n",
       "     }\n",
       "   });\n",
       " require(['JSRootCore'],\n",
       "     function(Core) {\n",
       "       var obj = Core.JSONR_unref({\"_typename\":\"TGeoVolume\",\"fUniqueID\":0,\"fBits\":59785224,\"fName\":\"cave\",\"fTitle\":\"Top volume\",\"fGeoAtt\":3084,\"fLineColor\":1,\"fLineStyle\":1,\"fLineWidth\":1,\"fFillColor\":19,\"fFillStyle\":1001,\"fNodes\":{\"_typename\":\"TObjArray\",\"name\":\"TObjArray\",\"arr\":[{\"_typename\":\"TGeoNodeMatrix\",\"fUniqueID\":0,\"fBits\":50331648,\"fName\":\"volTarget_1\",\"fTitle\":\"\",\"fGeoAtt\":3084,\"fVolume\":{\"_typename\":\"TGeoVolumeAssembly\",\"fUniqueID\":0,\"fBits\":59768832,\"fName\":\"volTarget\",\"fTitle\":\"\",\"fGeoAtt\":3084,\"fLineColor\":432,\"fLineStyle\":1,\"fLineWidth\":1,\"fFillColor\":19,\"fFillStyle\":1001,\"fNodes\":{\"_typename\":\"TObjArray\",\"name\":\"TObjArray\",\"arr\":[{\"_typename\":\"TGeoNodeMatrix\",\"fUniqueID\":0,\"fBits\":50331648,\"fName\":\"Emulsion2_10001\",\"fTitle\":\"\",\"fGeoAtt\":3084,\"fVolume\":{\"_typename\":\"TGeoVolume\",\"fUniqueID\":0,\"fBits\":58736640,\"fName\":\"Emulsion2\",\"fTitle\":\"\",\"fGeoAtt\":3212,\"fLineColor\":600,\"fLineStyle\":1,\"fLineWidth\":1,\"fFillColor\":19,\"fFillStyle\":1001,\"fNodes\":null,\"fShape\":{\"_typename\":\"TGeoBBox\",\"fUniqueID\":0,\"fBits\":50331648,\"fName\":\"EmulsionFilm\",\"fTitle\":\"\",\"fShapeId\":256,\"fShapeBits\":1024,\"fDX\":6.25,\"fDY\":4.95,\"fDZ\":0.0035,\"fOrigin\":[0,0,0]},\"fMedium\":{\"_typename\":\"TGeoMedium\",\"fUniqueID\":0,\"fBits\":50331648,\"fName\":\"NuclearEmulsion\",\"fTitle\":\"\",\"fId\":2,\"fParams\":[0,1,20,-1,-1,-1,0.001,-1,0,0,0,0,0,0,0,0,0,0,0,0],\"fMaterial\":{\"_typename\":\"TGeoMixture\",\"fUniqueID\":0,\"fBits\":50462720,\"fName\":\"NuclearEmulsion\",\"fTitle\":\"\",\"fFillColor\":19,\"fFillStyle\":1001,\"fIndex\":1,\"fA\":93.1469275545147,\"fZ\":40.6412410414769,\"fDensity\":2.9,\"fRadLen\":3.50875984950831,\"fIntLen\":52.2412201119515,\"fTemperature\":273.15,\"fPressure\":632420000,\"fState\":0,\"fShader\":null,\"fCerenkov\":null,\"fElement\":null,\"fProperties\":{\"_typename\":\"TList\",\"name\":\"TList\",\"arr\":[],\"opt\":[]},\"fConstProperties\":{\"_typename\":\"TList\",\"name\":\"TList\",\"arr\":[],\"opt\":[]},\"fNelements\":11,\"fZmixture\":[47,35,6,8,7,1,53,16,14,11,38],\"fAmixture\":[107.9,79.9,12.01,16,14.01,1.01,126.9,32.06,28.08,22.99,87.62],\"fWeights\":[0.587823611454361,0.321350350565238,0.0326411859291666,0.0167311321445731,0.0140013543344467,3.90210269429484e-4,0.0244363742515384,0.00207089198116373,3.08004932661459e-4,1.40096418999029e-4,1.06787718422749e-4],\"fNatoms\":[],\"fVecNbOfAtomsPerVolume\":[],\"fElements\":null}},\"fFinder\":null,\"fVoxels\":null,\"fNumber\":3,\"fNtotal\":1,\"fRefCount\":29},\"fMother\":{\"$ref\":3},\"fNumber\":10001,\"fNovlp\":0,\"fOverlaps\":[],\"fMatrix\":{\"_typename\":\"TGeoTranslation\",\"fUniqueID\":0,\"fBits\":52559872,\"fName\":\"\",\"fTitle\":\"\",\"fTranslation\":[0,0,-1.85325]}},{\"_typename\":\"TGeoNodeMatrix\",\"fUniqueID\":0,\"fBits\":50331648,\"fName\":\"Emulsion_1\",\"fTitle\":\"\",\"fGeoAtt\":3084,\"fVolume\":{\"_typename\":\"TGeoVolume\",\"fUniqueID\":0,\"fBits\":58736640,\"fName\":\"Emulsion\",\"fTitle\":\"\",\"fGeoAtt\":3212,\"fLineColor\":600,\"fLineStyle\":1,\"fLineWidth\":1,\"fFillColor\":19,\"fFillStyle\":1001,\"fNodes\":null,\"fShape\":{\"$ref\":7},\"fMedium\":{\"$ref\":8},\"fFinder\":null,\"fVoxels\":null,\"fNumber\":2,\"fNtotal\":1,\"fRefCount\":29},\"fMother\":{\"$ref\":3},\"fNumber\":1,\"fNovlp\":0,\"fOverlaps\":[],\"fMatrix\":{\"_typename\":\"TGeoTranslation\",\"fUniqueID\":0,\"fBits\":52559872,\"fName\":\"\",\"fTitle\":\"\",\"fTranslation\":[0,0,-1.82875]}},{\"_typename\":\"TGeoNodeMatrix\",\"fUniqueID\":0,\"fBits\":50331648,\"fName\":\"PlasticBase_1\",\"fTitle\":\"\",\"fGeoAtt\":3084,\"fVolume\":{\"_typename\":\"TGeoVolume\",\"fUniqueID\":0,\"fBits\":58736640,\"fName\":\"PlasticBase\",\"fTitle\":\"\",\"fGeoAtt\":3212,\"fLineColor\":396,\"fLineStyle\":1,\"fLineWidth\":1,\"fFillColor\":19,\"fFillStyle\":1001,\"fNodes\":null,\"fShape\":{\"_typename\":\"TGeoBBox\",\"fUniqueID\":0,\"fBits\":50331648,\"fName\":\"PlBase\",\"fTitle\":\"\",\"fShapeId\":256,\"fShapeBits\":1024,\"fDX\":6.25,\"fDY\":4.95,\"fDZ\":0.00875,\"fOrigin\":[0,0,0]},\"fMedium\":{\"_typename\":\"TGeoMedium\",\"fUniqueID\":0,\"fBits\":50331648,\"fName\":\"PlasticBase\",\"fTitle\":\"\",\"fId\":3,\"fParams\":[0,1,20,-1,-1,-1,0.001,-1,0,0,0,0,0,0,0,0,0,0,0,0],\"fMaterial\":{\"_typename\":\"TGeoMixture\",\"fUniqueID\":0,\"fBits\":50462720,\"fName\":\"PlasticBase\",\"fTitle\":\"\",\"fFillColor\":19,\"fFillStyle\":1001,\"fIndex\":2,\"fA\":14.386898558171,\"fZ\":7.19391502791211,\"fDensity\":1.28,\"fRadLen\":28.913148281043,\"fIntLen\":65.8866130141016,\"fTemperature\":273.15,\"fPressure\":632420000,\"fState\":0,\"fShader\":null,\"fCerenkov\":null,\"fElement\":null,\"fProperties\":{\"_typename\":\"TList\",\"name\":\"TList\",\"arr\":[],\"opt\":[]},\"fConstProperties\":{\"_typename\":\"TList\",\"name\":\"TList\",\"arr\":[],\"opt\":[]},\"fNelements\":3,\"fZmixture\":[8,6,1],\"fAmixture\":[16,12.01,1.01],\"fWeights\":[0.609059763989341,0.386099335997345,0.00484090001331381],\"fNatoms\":[],\"fVecNbOfAtomsPerVolume\":[],\"fElements\":null}},\"fFinder\":null,\"fVoxels\":null,\"fNumber\":4,\"fNtotal\":1,\"fRefCount\":29},\"fMother\":{\"$ref\":3},\"fNumber\":1,\"fNovlp\":0,\"fOverlaps\":[],\"fMatrix\":{\"_typename\":\"TGeoTranslation\",\"fUniqueID\":0,\"fBits\":52559872,\"fName\":\"\",\"fTitle\":\"\",\"fTranslation\":[0,0,-1.841]}},{\"_typename\":\"TGeoNodeMatrix\",\"fUniqueID\":0,\"fBits\":50331648,\"fName\":\"Emulsion2_10002\",\"fTitle\":\"\",\"fGeoAtt\":3084,\"fVolume\":{\"$ref\":6},\"fMother\":{\"$ref\":3},\"fNumber\":10002,\"fNovlp\":0,\"fOverlaps\":[],\"fMatrix\":{\"_typename\":\"TGeoTranslation\",\"fUniqueID\":0,\"fBits\":52559872,\"fName\":\"\",\"fTitle\":\"\",\"fTranslation\":[0,0,-1.72175]}},{\"_typename\":\"TGeoNodeMatrix\",\"fUniqueID\":0,\"fBits\":50331648,\"fName\":\"Emulsion_2\",\"fTitle\":\"\",\"fGeoAtt\":3084,\"fVolume\":{\"$ref\":14},\"fMother\":{\"$ref\":3},\"fNumber\":2,\"fNovlp\":0,\"fOverlaps\":[],\"fMatrix\":{\"_typename\":\"TGeoTranslation\",\"fUniqueID\":0,\"fBits\":52559872,\"fName\":\"\",\"fTitle\":\"\",\"fTranslation\":[0,0,-1.69725]}},{\"_typename\":\"TGeoNodeMatrix\",\"fUniqueID\":0,\"fBits\":50331648,\"fName\":\"PlasticBase_2\",\"fTitle\":\"\",\"fGeoAtt\":3084,\"fVolume\":{\"$ref\":17},\"fMother\":{\"$ref\":3},\"fNumber\":2,\"fNovlp\":0,\"fOverlaps\":[],\"fMatrix\":{\"_typename\":\"TGeoTranslation\",\"fUniqueID\":0,\"fBits\":52559872,\"fName\":\"\",\"fTitle\":\"\",\"fTranslation\":[0,0,-1.7095]}},{\"_typename\":\"TGeoNodeMatrix\",\"fUniqueID\":0,\"fBits\":50331648,\"fName\":\"Emulsion2_10003\",\"fTitle\":\"\",\"fGeoAtt\":3084,\"fVolume\":{\"$ref\":6},\"fMother\":{\"$ref\":3},\"fNumber\":10003,\"fNovlp\":0,\"fOverlaps\":[],\"fMatrix\":{\"_typename\":\"TGeoTranslation\",\"fUniqueID\":0,\"fBits\":52559872,\"fName\":\"\",\"fTitle\":\"\",\"fTranslation\":[0,0,-1.59025]}},{\"_typename\":\"TGeoNodeMatrix\",\"fUniqueID\":0,\"fBits\":50331648,\"fName\":\"Emulsion_3\",\"fTitle\":\"\",\"fGeoAtt\":3084,\"fVolume\":{\"$ref\":14},\"fMother\":{\"$ref\":3},\"fNumber\":3,\"fNovlp\":0,\"fOverlaps\":[],\"fMatrix\":{\"_typename\":\"TGeoTranslation\",\"fUniqueID\":0,\"fBits\":52559872,\"fName\":\"\",\"fTitle\":\"\",\"fTranslation\":[0,0,-1.56575]}},{\"_typename\":\"TGeoNodeMatrix\",\"fUniqueID\":0,\"fBits\":50331648,\"fName\":\"PlasticBase_3\",\"fTitle\":\"\",\"fGeoAtt\":3084,\"fVolume\":{\"$ref\":17},\"fMother\":{\"$ref\":3},\"fNumber\":3,\"fNovlp\":0,\"fOverlaps\":[],\"fMatrix\":{\"_typename\":\"TGeoTranslation\",\"fUniqueID\":0,\"fBits\":52559872,\"fName\":\"\",\"fTitle\":\"\",\"fTranslation\":[0,0,-1.578]}},{\"_typename\":\"TGeoNodeMatrix\",\"fUniqueID\":0,\"fBits\":50331648,\"fName\":\"Emulsion2_10004\",\"fTitle\":\"\",\"fGeoAtt\":3084,\"fVolume\":{\"$ref\":6},\"fMother\":{\"$ref\":3},\"fNumber\":10004,\"fNovlp\":0,\"fOverlaps\":[],\"fMatrix\":{\"_typename\":\"TGeoTranslation\",\"fUniqueID\":0,\"fBits\":52559872,\"fName\":\"\",\"fTitle\":\"\",\"fTranslation\":[0,0,-1.45875]}},{\"_typename\":\"TGeoNodeMatrix\",\"fUniqueID\":0,\"fBits\":50331648,\"fName\":\"Emulsion_4\",\"fTitle\":\"\",\"fGeoAtt\":3084,\"fVolume\":{\"$ref\":14},\"fMother\":{\"$ref\":3},\"fNumber\":4,\"fNovlp\":0,\"fOverlaps\":[],\"fMatrix\":{\"_typename\":\"TGeoTranslation\",\"fUniqueID\":0,\"fBits\":52559872,\"fName\":\"\",\"fTitle\":\"\",\"fTranslation\":[0,0,-1.43425]}},{\"_typename\":\"TGeoNodeMatrix\",\"fUniqueID\":0,\"fBits\":50331648,\"fName\":\"PlasticBase_4\",\"fTitle\":\"\",\"fGeoAtt\":3084,\"fVolume\":{\"$ref\":17},\"fMother\":{\"$ref\":3},\"fNumber\":4,\"fNovlp\":0,\"fOverlaps\":[],\"fMatrix\":{\"_typename\":\"TGeoTranslation\",\"fUniqueID\":0,\"fBits\":52559872,\"fName\":\"\",\"fTitle\":\"\",\"fTranslation\":[0,0,-1.4465]}},{\"_typename\":\"TGeoNodeMatrix\",\"fUniqueID\":0,\"fBits\":50331648,\"fName\":\"Emulsion2_10005\",\"fTitle\":\"\",\"fGeoAtt\":3084,\"fVolume\":{\"$ref\":6},\"fMother\":{\"$ref\":3},\"fNumber\":10005,\"fNovlp\":0,\"fOverlaps\":[],\"fMatrix\":{\"_typename\":\"TGeoTranslation\",\"fUniqueID\":0,\"fBits\":52559872,\"fName\":\"\",\"fTitle\":\"\",\"fTranslation\":[0,0,-1.32725]}},{\"_typename\":\"TGeoNodeMatrix\",\"fUniqueID\":0,\"fBits\":50331648,\"fName\":\"Emulsion_5\",\"fTitle\":\"\",\"fGeoAtt\":3084,\"fVolume\":{\"$ref\":14},\"fMother\":{\"$ref\":3},\"fNumber\":5,\"fNovlp\":0,\"fOverlaps\":[],\"fMatrix\":{\"_typename\":\"TGeoTranslation\",\"fUniqueID\":0,\"fBits\":52559872,\"fName\":\"\",\"fTitle\":\"\",\"fTranslation\":[0,0,-1.30275]}},{\"_typename\":\"TGeoNodeMatrix\",\"fUniqueID\":0,\"fBits\":50331648,\"fName\":\"PlasticBase_5\",\"fTitle\":\"\",\"fGeoAtt\":3084,\"fVolume\":{\"$ref\":17},\"fMother\":{\"$ref\":3},\"fNumber\":5,\"fNovlp\":0,\"fOverlaps\":[],\"fMatrix\":{\"_typename\":\"TGeoTranslation\",\"fUniqueID\":0,\"fBits\":52559872,\"fName\":\"\",\"fTitle\":\"\",\"fTranslation\":[0,0,-1.315]}},{\"_typename\":\"TGeoNodeMatrix\",\"fUniqueID\":0,\"fBits\":50331648,\"fName\":\"Emulsion2_10006\",\"fTitle\":\"\",\"fGeoAtt\":3084,\"fVolume\":{\"$ref\":6},\"fMother\":{\"$ref\":3},\"fNumber\":10006,\"fNovlp\":0,\"fOverlaps\":[],\"fMatrix\":{\"_typename\":\"TGeoTranslation\",\"fUniqueID\":0,\"fBits\":52559872,\"fName\":\"\",\"fTitle\":\"\",\"fTranslation\":[0,0,-1.19575]}},{\"_typename\":\"TGeoNodeMatrix\",\"fUniqueID\":0,\"fBits\":50331648,\"fName\":\"Emulsion_6\",\"fTitle\":\"\",\"fGeoAtt\":3084,\"fVolume\":{\"$ref\":14},\"fMother\":{\"$ref\":3},\"fNumber\":6,\"fNovlp\":0,\"fOverlaps\":[],\"fMatrix\":{\"_typename\":\"TGeoTranslation\",\"fUniqueID\":0,\"fBits\":52559872,\"fName\":\"\",\"fTitle\":\"\",\"fTranslation\":[0,0,-1.17125]}},{\"_typename\":\"TGeoNodeMatrix\",\"fUniqueID\":0,\"fBits\":50331648,\"fName\":\"PlasticBase_6\",\"fTitle\":\"\",\"fGeoAtt\":3084,\"fVolume\":{\"$ref\":17},\"fMother\":{\"$ref\":3},\"fNumber\":6,\"fNovlp\":0,\"fOverlaps\":[],\"fMatrix\":{\"_typename\":\"TGeoTranslation\",\"fUniqueID\":0,\"fBits\":52559872,\"fName\":\"\",\"fTitle\":\"\",\"fTranslation\":[0,0,-1.1835]}},{\"_typename\":\"TGeoNodeMatrix\",\"fUniqueID\":0,\"fBits\":50331648,\"fName\":\"Emulsion2_10007\",\"fTitle\":\"\",\"fGeoAtt\":3084,\"fVolume\":{\"$ref\":6},\"fMother\":{\"$ref\":3},\"fNumber\":10007,\"fNovlp\":0,\"fOverlaps\":[],\"fMatrix\":{\"_typename\":\"TGeoTranslation\",\"fUniqueID\":0,\"fBits\":52559872,\"fName\":\"\",\"fTitle\":\"\",\"fTranslation\":[0,0,-1.06425]}},{\"_typename\":\"TGeoNodeMatrix\",\"fUniqueID\":0,\"fBits\":50331648,\"fName\":\"Emulsion_7\",\"fTitle\":\"\",\"fGeoAtt\":3084,\"fVolume\":{\"$ref\":14},\"fMother\":{\"$ref\":3},\"fNumber\":7,\"fNovlp\":0,\"fOverlaps\":[],\"fMatrix\":{\"_typename\":\"TGeoTranslation\",\"fUniqueID\":0,\"fBits\":52559872,\"fName\":\"\",\"fTitle\":\"\",\"fTranslation\":[0,0,-1.03975]}},{\"_typename\":\"TGeoNodeMatrix\",\"fUniqueID\":0,\"fBits\":50331648,\"fName\":\"PlasticBase_7\",\"fTitle\":\"\",\"fGeoAtt\":3084,\"fVolume\":{\"$ref\":17},\"fMother\":{\"$ref\":3},\"fNumber\":7,\"fNovlp\":0,\"fOverlaps\":[],\"fMatrix\":{\"_typename\":\"TGeoTranslation\",\"fUniqueID\":0,\"fBits\":52559872,\"fName\":\"\",\"fTitle\":\"\",\"fTranslation\":[0,0,-1.052]}},{\"_typename\":\"TGeoNodeMatrix\",\"fUniqueID\":0,\"fBits\":50331648,\"fName\":\"Emulsion2_10008\",\"fTitle\":\"\",\"fGeoAtt\":3084,\"fVolume\":{\"$ref\":6},\"fMother\":{\"$ref\":3},\"fNumber\":10008,\"fNovlp\":0,\"fOverlaps\":[],\"fMatrix\":{\"_typename\":\"TGeoTranslation\",\"fUniqueID\":0,\"fBits\":52559872,\"fName\":\"\",\"fTitle\":\"\",\"fTranslation\":[0,0,-0.93275]}},{\"_typename\":\"TGeoNodeMatrix\",\"fUniqueID\":0,\"fBits\":50331648,\"fName\":\"Emulsion_8\",\"fTitle\":\"\",\"fGeoAtt\":3084,\"fVolume\":{\"$ref\":14},\"fMother\":{\"$ref\":3},\"fNumber\":8,\"fNovlp\":0,\"fOverlaps\":[],\"fMatrix\":{\"_typename\":\"TGeoTranslation\",\"fUniqueID\":0,\"fBits\":52559872,\"fName\":\"\",\"fTitle\":\"\",\"fTranslation\":[0,0,-0.90825]}},{\"_typename\":\"TGeoNodeMatrix\",\"fUniqueID\":0,\"fBits\":50331648,\"fName\":\"PlasticBase_8\",\"fTitle\":\"\",\"fGeoAtt\":3084,\"fVolume\":{\"$ref\":17},\"fMother\":{\"$ref\":3},\"fNumber\":8,\"fNovlp\":0,\"fOverlaps\":[],\"fMatrix\":{\"_typename\":\"TGeoTranslation\",\"fUniqueID\":0,\"fBits\":52559872,\"fName\":\"\",\"fTitle\":\"\",\"fTranslation\":[0,0,-0.9205]}},{\"_typename\":\"TGeoNodeMatrix\",\"fUniqueID\":0,\"fBits\":50331648,\"fName\":\"Emulsion2_10009\",\"fTitle\":\"\",\"fGeoAtt\":3084,\"fVolume\":{\"$ref\":6},\"fMother\":{\"$ref\":3},\"fNumber\":10009,\"fNovlp\":0,\"fOverlaps\":[],\"fMatrix\":{\"_typename\":\"TGeoTranslation\",\"fUniqueID\":0,\"fBits\":52559872,\"fName\":\"\",\"fTitle\":\"\",\"fTranslation\":[0,0,-0.80125]}},{\"_typename\":\"TGeoNodeMatrix\",\"fUniqueID\":0,\"fBits\":50331648,\"fName\":\"Emulsion_9\",\"fTitle\":\"\",\"fGeoAtt\":3084,\"fVolume\":{\"$ref\":14},\"fMother\":{\"$ref\":3},\"fNumber\":9,\"fNovlp\":0,\"fOverlaps\":[],\"fMatrix\":{\"_typename\":\"TGeoTranslation\",\"fUniqueID\":0,\"fBits\":52559872,\"fName\":\"\",\"fTitle\":\"\",\"fTranslation\":[0,0,-0.77675]}},{\"_typename\":\"TGeoNodeMatrix\",\"fUniqueID\":0,\"fBits\":50331648,\"fName\":\"PlasticBase_9\",\"fTitle\":\"\",\"fGeoAtt\":3084,\"fVolume\":{\"$ref\":17},\"fMother\":{\"$ref\":3},\"fNumber\":9,\"fNovlp\":0,\"fOverlaps\":[],\"fMatrix\":{\"_typename\":\"TGeoTranslation\",\"fUniqueID\":0,\"fBits\":52559872,\"fName\":\"\",\"fTitle\":\"\",\"fTranslation\":[0,0,-0.789]}},{\"_typename\":\"TGeoNodeMatrix\",\"fUniqueID\":0,\"fBits\":50331648,\"fName\":\"Emulsion2_10010\",\"fTitle\":\"\",\"fGeoAtt\":3084,\"fVolume\":{\"$ref\":6},\"fMother\":{\"$ref\":3},\"fNumber\":10010,\"fNovlp\":0,\"fOverlaps\":[],\"fMatrix\":{\"_typename\":\"TGeoTranslation\",\"fUniqueID\":0,\"fBits\":52559872,\"fName\":\"\",\"fTitle\":\"\",\"fTranslation\":[0,0,-0.66975]}},{\"_typename\":\"TGeoNodeMatrix\",\"fUniqueID\":0,\"fBits\":50331648,\"fName\":\"Emulsion_10\",\"fTitle\":\"\",\"fGeoAtt\":3084,\"fVolume\":{\"$ref\":14},\"fMother\":{\"$ref\":3},\"fNumber\":10,\"fNovlp\":0,\"fOverlaps\":[],\"fMatrix\":{\"_typename\":\"TGeoTranslation\",\"fUniqueID\":0,\"fBits\":52559872,\"fName\":\"\",\"fTitle\":\"\",\"fTranslation\":[0,0,-0.64525]}},{\"_typename\":\"TGeoNodeMatrix\",\"fUniqueID\":0,\"fBits\":50331648,\"fName\":\"PlasticBase_10\",\"fTitle\":\"\",\"fGeoAtt\":3084,\"fVolume\":{\"$ref\":17},\"fMother\":{\"$ref\":3},\"fNumber\":10,\"fNovlp\":0,\"fOverlaps\":[],\"fMatrix\":{\"_typename\":\"TGeoTranslation\",\"fUniqueID\":0,\"fBits\":52559872,\"fName\":\"\",\"fTitle\":\"\",\"fTranslation\":[0,0,-0.6575]}},{\"_typename\":\"TGeoNodeMatrix\",\"fUniqueID\":0,\"fBits\":50331648,\"fName\":\"Emulsion2_10011\",\"fTitle\":\"\",\"fGeoAtt\":3084,\"fVolume\":{\"$ref\":6},\"fMother\":{\"$ref\":3},\"fNumber\":10011,\"fNovlp\":0,\"fOverlaps\":[],\"fMatrix\":{\"_typename\":\"TGeoTranslation\",\"fUniqueID\":0,\"fBits\":52559872,\"fName\":\"\",\"fTitle\":\"\",\"fTranslation\":[0,0,-0.53825]}},{\"_typename\":\"TGeoNodeMatrix\",\"fUniqueID\":0,\"fBits\":50331648,\"fName\":\"Emulsion_11\",\"fTitle\":\"\",\"fGeoAtt\":3084,\"fVolume\":{\"$ref\":14},\"fMother\":{\"$ref\":3},\"fNumber\":11,\"fNovlp\":0,\"fOverlaps\":[],\"fMatrix\":{\"_typename\":\"TGeoTranslation\",\"fUniqueID\":0,\"fBits\":52559872,\"fName\":\"\",\"fTitle\":\"\",\"fTranslation\":[0,0,-0.51375]}},{\"_typename\":\"TGeoNodeMatrix\",\"fUniqueID\":0,\"fBits\":50331648,\"fName\":\"PlasticBase_11\",\"fTitle\":\"\",\"fGeoAtt\":3084,\"fVolume\":{\"$ref\":17},\"fMother\":{\"$ref\":3},\"fNumber\":11,\"fNovlp\":0,\"fOverlaps\":[],\"fMatrix\":{\"_typename\":\"TGeoTranslation\",\"fUniqueID\":0,\"fBits\":52559872,\"fName\":\"\",\"fTitle\":\"\",\"fTranslation\":[0,0,-0.526]}},{\"_typename\":\"TGeoNodeMatrix\",\"fUniqueID\":0,\"fBits\":50331648,\"fName\":\"Emulsion2_10012\",\"fTitle\":\"\",\"fGeoAtt\":3084,\"fVolume\":{\"$ref\":6},\"fMother\":{\"$ref\":3},\"fNumber\":10012,\"fNovlp\":0,\"fOverlaps\":[],\"fMatrix\":{\"_typename\":\"TGeoTranslation\",\"fUniqueID\":0,\"fBits\":52559872,\"fName\":\"\",\"fTitle\":\"\",\"fTranslation\":[0,0,-0.40675]}},{\"_typename\":\"TGeoNodeMatrix\",\"fUniqueID\":0,\"fBits\":50331648,\"fName\":\"Emulsion_12\",\"fTitle\":\"\",\"fGeoAtt\":3084,\"fVolume\":{\"$ref\":14},\"fMother\":{\"$ref\":3},\"fNumber\":12,\"fNovlp\":0,\"fOverlaps\":[],\"fMatrix\":{\"_typename\":\"TGeoTranslation\",\"fUniqueID\":0,\"fBits\":52559872,\"fName\":\"\",\"fTitle\":\"\",\"fTranslation\":[0,0,-0.38225]}},{\"_typename\":\"TGeoNodeMatrix\",\"fUniqueID\":0,\"fBits\":50331648,\"fName\":\"PlasticBase_12\",\"fTitle\":\"\",\"fGeoAtt\":3084,\"fVolume\":{\"$ref\":17},\"fMother\":{\"$ref\":3},\"fNumber\":12,\"fNovlp\":0,\"fOverlaps\":[],\"fMatrix\":{\"_typename\":\"TGeoTranslation\",\"fUniqueID\":0,\"fBits\":52559872,\"fName\":\"\",\"fTitle\":\"\",\"fTranslation\":[0,0,-0.3945]}},{\"_typename\":\"TGeoNodeMatrix\",\"fUniqueID\":0,\"fBits\":50331648,\"fName\":\"Emulsion2_10013\",\"fTitle\":\"\",\"fGeoAtt\":3084,\"fVolume\":{\"$ref\":6},\"fMother\":{\"$ref\":3},\"fNumber\":10013,\"fNovlp\":0,\"fOverlaps\":[],\"fMatrix\":{\"_typename\":\"TGeoTranslation\",\"fUniqueID\":0,\"fBits\":52559872,\"fName\":\"\",\"fTitle\":\"\",\"fTranslation\":[0,0,-0.27525]}},{\"_typename\":\"TGeoNodeMatrix\",\"fUniqueID\":0,\"fBits\":50331648,\"fName\":\"Emulsion_13\",\"fTitle\":\"\",\"fGeoAtt\":3084,\"fVolume\":{\"$ref\":14},\"fMother\":{\"$ref\":3},\"fNumber\":13,\"fNovlp\":0,\"fOverlaps\":[],\"fMatrix\":{\"_typename\":\"TGeoTranslation\",\"fUniqueID\":0,\"fBits\":52559872,\"fName\":\"\",\"fTitle\":\"\",\"fTranslation\":[0,0,-0.25075]}},{\"_typename\":\"TGeoNodeMatrix\",\"fUniqueID\":0,\"fBits\":50331648,\"fName\":\"PlasticBase_13\",\"fTitle\":\"\",\"fGeoAtt\":3084,\"fVolume\":{\"$ref\":17},\"fMother\":{\"$ref\":3},\"fNumber\":13,\"fNovlp\":0,\"fOverlaps\":[],\"fMatrix\":{\"_typename\":\"TGeoTranslation\",\"fUniqueID\":0,\"fBits\":52559872,\"fName\":\"\",\"fTitle\":\"\",\"fTranslation\":[0,0,-0.263]}},{\"_typename\":\"TGeoNodeMatrix\",\"fUniqueID\":0,\"fBits\":50331648,\"fName\":\"Emulsion2_10014\",\"fTitle\":\"\",\"fGeoAtt\":3084,\"fVolume\":{\"$ref\":6},\"fMother\":{\"$ref\":3},\"fNumber\":10014,\"fNovlp\":0,\"fOverlaps\":[],\"fMatrix\":{\"_typename\":\"TGeoTranslation\",\"fUniqueID\":0,\"fBits\":52559872,\"fName\":\"\",\"fTitle\":\"\",\"fTranslation\":[0,0,-0.14375]}},{\"_typename\":\"TGeoNodeMatrix\",\"fUniqueID\":0,\"fBits\":50331648,\"fName\":\"Emulsion_14\",\"fTitle\":\"\",\"fGeoAtt\":3084,\"fVolume\":{\"$ref\":14},\"fMother\":{\"$ref\":3},\"fNumber\":14,\"fNovlp\":0,\"fOverlaps\":[],\"fMatrix\":{\"_typename\":\"TGeoTranslation\",\"fUniqueID\":0,\"fBits\":52559872,\"fName\":\"\",\"fTitle\":\"\",\"fTranslation\":[0,0,-0.11925]}},{\"_typename\":\"TGeoNodeMatrix\",\"fUniqueID\":0,\"fBits\":50331648,\"fName\":\"PlasticBase_14\",\"fTitle\":\"\",\"fGeoAtt\":3084,\"fVolume\":{\"$ref\":17},\"fMother\":{\"$ref\":3},\"fNumber\":14,\"fNovlp\":0,\"fOverlaps\":[],\"fMatrix\":{\"_typename\":\"TGeoTranslation\",\"fUniqueID\":0,\"fBits\":52559872,\"fName\":\"\",\"fTitle\":\"\",\"fTranslation\":[0,0,-0.1315]}},{\"_typename\":\"TGeoNodeMatrix\",\"fUniqueID\":0,\"fBits\":50331648,\"fName\":\"Emulsion2_10015\",\"fTitle\":\"\",\"fGeoAtt\":3084,\"fVolume\":{\"$ref\":6},\"fMother\":{\"$ref\":3},\"fNumber\":10015,\"fNovlp\":0,\"fOverlaps\":[],\"fMatrix\":{\"_typename\":\"TGeoTranslation\",\"fUniqueID\":0,\"fBits\":52559872,\"fName\":\"\",\"fTitle\":\"\",\"fTranslation\":[0,0,-0.0122499999999999]}},{\"_typename\":\"TGeoNodeMatrix\",\"fUniqueID\":0,\"fBits\":50331648,\"fName\":\"Emulsion_15\",\"fTitle\":\"\",\"fGeoAtt\":3084,\"fVolume\":{\"$ref\":14},\"fMother\":{\"$ref\":3},\"fNumber\":15,\"fNovlp\":0,\"fOverlaps\":[],\"fMatrix\":{\"_typename\":\"TGeoTranslation\",\"fUniqueID\":0,\"fBits\":52559872,\"fName\":\"\",\"fTitle\":\"\",\"fTranslation\":[0,0,0.0122500000000001]}},{\"_typename\":\"TGeoNodeMatrix\",\"fUniqueID\":0,\"fBits\":50331648,\"fName\":\"PlasticBase_15\",\"fTitle\":\"\",\"fGeoAtt\":3084,\"fVolume\":{\"$ref\":17},\"fMother\":{\"$ref\":3},\"fNumber\":15,\"fNovlp\":0,\"fOverlaps\":[],\"fMatrix\":{\"_typename\":\"TGeoTranslation\",\"fUniqueID\":0,\"fBits\":52559872,\"fName\":\"\",\"fTitle\":\"\",\"fTranslation\":[0,0,6.93889390390723e-17]}},{\"_typename\":\"TGeoNodeMatrix\",\"fUniqueID\":0,\"fBits\":50331648,\"fName\":\"Emulsion2_10016\",\"fTitle\":\"\",\"fGeoAtt\":3084,\"fVolume\":{\"$ref\":6},\"fMother\":{\"$ref\":3},\"fNumber\":10016,\"fNovlp\":0,\"fOverlaps\":[],\"fMatrix\":{\"_typename\":\"TGeoTranslation\",\"fUniqueID\":0,\"fBits\":52559872,\"fName\":\"\",\"fTitle\":\"\",\"fTranslation\":[0,0,0.11925]}},{\"_typename\":\"TGeoNodeMatrix\",\"fUniqueID\":0,\"fBits\":50331648,\"fName\":\"Emulsion_16\",\"fTitle\":\"\",\"fGeoAtt\":3084,\"fVolume\":{\"$ref\":14},\"fMother\":{\"$ref\":3},\"fNumber\":16,\"fNovlp\":0,\"fOverlaps\":[],\"fMatrix\":{\"_typename\":\"TGeoTranslation\",\"fUniqueID\":0,\"fBits\":52559872,\"fName\":\"\",\"fTitle\":\"\",\"fTranslation\":[0,0,0.14375]}},{\"_typename\":\"TGeoNodeMatrix\",\"fUniqueID\":0,\"fBits\":50331648,\"fName\":\"PlasticBase_16\",\"fTitle\":\"\",\"fGeoAtt\":3084,\"fVolume\":{\"$ref\":17},\"fMother\":{\"$ref\":3},\"fNumber\":16,\"fNovlp\":0,\"fOverlaps\":[],\"fMatrix\":{\"_typename\":\"TGeoTranslation\",\"fUniqueID\":0,\"fBits\":52559872,\"fName\":\"\",\"fTitle\":\"\",\"fTranslation\":[0,0,0.1315]}},{\"_typename\":\"TGeoNodeMatrix\",\"fUniqueID\":0,\"fBits\":50331648,\"fName\":\"Emulsion2_10017\",\"fTitle\":\"\",\"fGeoAtt\":3084,\"fVolume\":{\"$ref\":6},\"fMother\":{\"$ref\":3},\"fNumber\":10017,\"fNovlp\":0,\"fOverlaps\":[],\"fMatrix\":{\"_typename\":\"TGeoTranslation\",\"fUniqueID\":0,\"fBits\":52559872,\"fName\":\"\",\"fTitle\":\"\",\"fTranslation\":[0,0,0.25075]}},{\"_typename\":\"TGeoNodeMatrix\",\"fUniqueID\":0,\"fBits\":50331648,\"fName\":\"Emulsion_17\",\"fTitle\":\"\",\"fGeoAtt\":3084,\"fVolume\":{\"$ref\":14},\"fMother\":{\"$ref\":3},\"fNumber\":17,\"fNovlp\":0,\"fOverlaps\":[],\"fMatrix\":{\"_typename\":\"TGeoTranslation\",\"fUniqueID\":0,\"fBits\":52559872,\"fName\":\"\",\"fTitle\":\"\",\"fTranslation\":[0,0,0.27525]}},{\"_typename\":\"TGeoNodeMatrix\",\"fUniqueID\":0,\"fBits\":50331648,\"fName\":\"PlasticBase_17\",\"fTitle\":\"\",\"fGeoAtt\":3084,\"fVolume\":{\"$ref\":17},\"fMother\":{\"$ref\":3},\"fNumber\":17,\"fNovlp\":0,\"fOverlaps\":[],\"fMatrix\":{\"_typename\":\"TGeoTranslation\",\"fUniqueID\":0,\"fBits\":52559872,\"fName\":\"\",\"fTitle\":\"\",\"fTranslation\":[0,0,0.263]}},{\"_typename\":\"TGeoNodeMatrix\",\"fUniqueID\":0,\"fBits\":50331648,\"fName\":\"Emulsion2_10018\",\"fTitle\":\"\",\"fGeoAtt\":3084,\"fVolume\":{\"$ref\":6},\"fMother\":{\"$ref\":3},\"fNumber\":10018,\"fNovlp\":0,\"fOverlaps\":[],\"fMatrix\":{\"_typename\":\"TGeoTranslation\",\"fUniqueID\":0,\"fBits\":52559872,\"fName\":\"\",\"fTitle\":\"\",\"fTranslation\":[0,0,0.38225]}},{\"_typename\":\"TGeoNodeMatrix\",\"fUniqueID\":0,\"fBits\":50331648,\"fName\":\"Emulsion_18\",\"fTitle\":\"\",\"fGeoAtt\":3084,\"fVolume\":{\"$ref\":14},\"fMother\":{\"$ref\":3},\"fNumber\":18,\"fNovlp\":0,\"fOverlaps\":[],\"fMatrix\":{\"_typename\":\"TGeoTranslation\",\"fUniqueID\":0,\"fBits\":52559872,\"fName\":\"\",\"fTitle\":\"\",\"fTranslation\":[0,0,0.40675]}},{\"_typename\":\"TGeoNodeMatrix\",\"fUniqueID\":0,\"fBits\":50331648,\"fName\":\"PlasticBase_18\",\"fTitle\":\"\",\"fGeoAtt\":3084,\"fVolume\":{\"$ref\":17},\"fMother\":{\"$ref\":3},\"fNumber\":18,\"fNovlp\":0,\"fOverlaps\":[],\"fMatrix\":{\"_typename\":\"TGeoTranslation\",\"fUniqueID\":0,\"fBits\":52559872,\"fName\":\"\",\"fTitle\":\"\",\"fTranslation\":[0,0,0.3945]}},{\"_typename\":\"TGeoNodeMatrix\",\"fUniqueID\":0,\"fBits\":50331648,\"fName\":\"Emulsion2_10019\",\"fTitle\":\"\",\"fGeoAtt\":3084,\"fVolume\":{\"$ref\":6},\"fMother\":{\"$ref\":3},\"fNumber\":10019,\"fNovlp\":0,\"fOverlaps\":[],\"fMatrix\":{\"_typename\":\"TGeoTranslation\",\"fUniqueID\":0,\"fBits\":52559872,\"fName\":\"\",\"fTitle\":\"\",\"fTranslation\":[0,0,0.51375]}},{\"_typename\":\"TGeoNodeMatrix\",\"fUniqueID\":0,\"fBits\":50331648,\"fName\":\"Emulsion_19\",\"fTitle\":\"\",\"fGeoAtt\":3084,\"fVolume\":{\"$ref\":14},\"fMother\":{\"$ref\":3},\"fNumber\":19,\"fNovlp\":0,\"fOverlaps\":[],\"fMatrix\":{\"_typename\":\"TGeoTranslation\",\"fUniqueID\":0,\"fBits\":52559872,\"fName\":\"\",\"fTitle\":\"\",\"fTranslation\":[0,0,0.53825]}},{\"_typename\":\"TGeoNodeMatrix\",\"fUniqueID\":0,\"fBits\":50331648,\"fName\":\"PlasticBase_19\",\"fTitle\":\"\",\"fGeoAtt\":3084,\"fVolume\":{\"$ref\":17},\"fMother\":{\"$ref\":3},\"fNumber\":19,\"fNovlp\":0,\"fOverlaps\":[],\"fMatrix\":{\"_typename\":\"TGeoTranslation\",\"fUniqueID\":0,\"fBits\":52559872,\"fName\":\"\",\"fTitle\":\"\",\"fTranslation\":[0,0,0.526]}},{\"_typename\":\"TGeoNodeMatrix\",\"fUniqueID\":0,\"fBits\":50331648,\"fName\":\"Emulsion2_10020\",\"fTitle\":\"\",\"fGeoAtt\":3084,\"fVolume\":{\"$ref\":6},\"fMother\":{\"$ref\":3},\"fNumber\":10020,\"fNovlp\":0,\"fOverlaps\":[],\"fMatrix\":{\"_typename\":\"TGeoTranslation\",\"fUniqueID\":0,\"fBits\":52559872,\"fName\":\"\",\"fTitle\":\"\",\"fTranslation\":[0,0,0.64525]}},{\"_typename\":\"TGeoNodeMatrix\",\"fUniqueID\":0,\"fBits\":50331648,\"fName\":\"Emulsion_20\",\"fTitle\":\"\",\"fGeoAtt\":3084,\"fVolume\":{\"$ref\":14},\"fMother\":{\"$ref\":3},\"fNumber\":20,\"fNovlp\":0,\"fOverlaps\":[],\"fMatrix\":{\"_typename\":\"TGeoTranslation\",\"fUniqueID\":0,\"fBits\":52559872,\"fName\":\"\",\"fTitle\":\"\",\"fTranslation\":[0,0,0.66975]}},{\"_typename\":\"TGeoNodeMatrix\",\"fUniqueID\":0,\"fBits\":50331648,\"fName\":\"PlasticBase_20\",\"fTitle\":\"\",\"fGeoAtt\":3084,\"fVolume\":{\"$ref\":17},\"fMother\":{\"$ref\":3},\"fNumber\":20,\"fNovlp\":0,\"fOverlaps\":[],\"fMatrix\":{\"_typename\":\"TGeoTranslation\",\"fUniqueID\":0,\"fBits\":52559872,\"fName\":\"\",\"fTitle\":\"\",\"fTranslation\":[0,0,0.6575]}},{\"_typename\":\"TGeoNodeMatrix\",\"fUniqueID\":0,\"fBits\":50331648,\"fName\":\"Emulsion2_10021\",\"fTitle\":\"\",\"fGeoAtt\":3084,\"fVolume\":{\"$ref\":6},\"fMother\":{\"$ref\":3},\"fNumber\":10021,\"fNovlp\":0,\"fOverlaps\":[],\"fMatrix\":{\"_typename\":\"TGeoTranslation\",\"fUniqueID\":0,\"fBits\":52559872,\"fName\":\"\",\"fTitle\":\"\",\"fTranslation\":[0,0,0.77675]}},{\"_typename\":\"TGeoNodeMatrix\",\"fUniqueID\":0,\"fBits\":50331648,\"fName\":\"Emulsion_21\",\"fTitle\":\"\",\"fGeoAtt\":3084,\"fVolume\":{\"$ref\":14},\"fMother\":{\"$ref\":3},\"fNumber\":21,\"fNovlp\":0,\"fOverlaps\":[],\"fMatrix\":{\"_typename\":\"TGeoTranslation\",\"fUniqueID\":0,\"fBits\":52559872,\"fName\":\"\",\"fTitle\":\"\",\"fTranslation\":[0,0,0.80125]}},{\"_typename\":\"TGeoNodeMatrix\",\"fUniqueID\":0,\"fBits\":50331648,\"fName\":\"PlasticBase_21\",\"fTitle\":\"\",\"fGeoAtt\":3084,\"fVolume\":{\"$ref\":17},\"fMother\":{\"$ref\":3},\"fNumber\":21,\"fNovlp\":0,\"fOverlaps\":[],\"fMatrix\":{\"_typename\":\"TGeoTranslation\",\"fUniqueID\":0,\"fBits\":52559872,\"fName\":\"\",\"fTitle\":\"\",\"fTranslation\":[0,0,0.789]}},{\"_typename\":\"TGeoNodeMatrix\",\"fUniqueID\":0,\"fBits\":50331648,\"fName\":\"Emulsion2_10022\",\"fTitle\":\"\",\"fGeoAtt\":3084,\"fVolume\":{\"$ref\":6},\"fMother\":{\"$ref\":3},\"fNumber\":10022,\"fNovlp\":0,\"fOverlaps\":[],\"fMatrix\":{\"_typename\":\"TGeoTranslation\",\"fUniqueID\":0,\"fBits\":52559872,\"fName\":\"\",\"fTitle\":\"\",\"fTranslation\":[0,0,0.90825]}},{\"_typename\":\"TGeoNodeMatrix\",\"fUniqueID\":0,\"fBits\":50331648,\"fName\":\"Emulsion_22\",\"fTitle\":\"\",\"fGeoAtt\":3084,\"fVolume\":{\"$ref\":14},\"fMother\":{\"$ref\":3},\"fNumber\":22,\"fNovlp\":0,\"fOverlaps\":[],\"fMatrix\":{\"_typename\":\"TGeoTranslation\",\"fUniqueID\":0,\"fBits\":52559872,\"fName\":\"\",\"fTitle\":\"\",\"fTranslation\":[0,0,0.93275]}},{\"_typename\":\"TGeoNodeMatrix\",\"fUniqueID\":0,\"fBits\":50331648,\"fName\":\"PlasticBase_22\",\"fTitle\":\"\",\"fGeoAtt\":3084,\"fVolume\":{\"$ref\":17},\"fMother\":{\"$ref\":3},\"fNumber\":22,\"fNovlp\":0,\"fOverlaps\":[],\"fMatrix\":{\"_typename\":\"TGeoTranslation\",\"fUniqueID\":0,\"fBits\":52559872,\"fName\":\"\",\"fTitle\":\"\",\"fTranslation\":[0,0,0.9205]}},{\"_typename\":\"TGeoNodeMatrix\",\"fUniqueID\":0,\"fBits\":50331648,\"fName\":\"Emulsion2_10023\",\"fTitle\":\"\",\"fGeoAtt\":3084,\"fVolume\":{\"$ref\":6},\"fMother\":{\"$ref\":3},\"fNumber\":10023,\"fNovlp\":0,\"fOverlaps\":[],\"fMatrix\":{\"_typename\":\"TGeoTranslation\",\"fUniqueID\":0,\"fBits\":52559872,\"fName\":\"\",\"fTitle\":\"\",\"fTranslation\":[0,0,1.03975]}},{\"_typename\":\"TGeoNodeMatrix\",\"fUniqueID\":0,\"fBits\":50331648,\"fName\":\"Emulsion_23\",\"fTitle\":\"\",\"fGeoAtt\":3084,\"fVolume\":{\"$ref\":14},\"fMother\":{\"$ref\":3},\"fNumber\":23,\"fNovlp\":0,\"fOverlaps\":[],\"fMatrix\":{\"_typename\":\"TGeoTranslation\",\"fUniqueID\":0,\"fBits\":52559872,\"fName\":\"\",\"fTitle\":\"\",\"fTranslation\":[0,0,1.06425]}},{\"_typename\":\"TGeoNodeMatrix\",\"fUniqueID\":0,\"fBits\":50331648,\"fName\":\"PlasticBase_23\",\"fTitle\":\"\",\"fGeoAtt\":3084,\"fVolume\":{\"$ref\":17},\"fMother\":{\"$ref\":3},\"fNumber\":23,\"fNovlp\":0,\"fOverlaps\":[],\"fMatrix\":{\"_typename\":\"TGeoTranslation\",\"fUniqueID\":0,\"fBits\":52559872,\"fName\":\"\",\"fTitle\":\"\",\"fTranslation\":[0,0,1.052]}},{\"_typename\":\"TGeoNodeMatrix\",\"fUniqueID\":0,\"fBits\":50331648,\"fName\":\"Emulsion2_10024\",\"fTitle\":\"\",\"fGeoAtt\":3084,\"fVolume\":{\"$ref\":6},\"fMother\":{\"$ref\":3},\"fNumber\":10024,\"fNovlp\":0,\"fOverlaps\":[],\"fMatrix\":{\"_typename\":\"TGeoTranslation\",\"fUniqueID\":0,\"fBits\":52559872,\"fName\":\"\",\"fTitle\":\"\",\"fTranslation\":[0,0,1.17125]}},{\"_typename\":\"TGeoNodeMatrix\",\"fUniqueID\":0,\"fBits\":50331648,\"fName\":\"Emulsion_24\",\"fTitle\":\"\",\"fGeoAtt\":3084,\"fVolume\":{\"$ref\":14},\"fMother\":{\"$ref\":3},\"fNumber\":24,\"fNovlp\":0,\"fOverlaps\":[],\"fMatrix\":{\"_typename\":\"TGeoTranslation\",\"fUniqueID\":0,\"fBits\":52559872,\"fName\":\"\",\"fTitle\":\"\",\"fTranslation\":[0,0,1.19575]}},{\"_typename\":\"TGeoNodeMatrix\",\"fUniqueID\":0,\"fBits\":50331648,\"fName\":\"PlasticBase_24\",\"fTitle\":\"\",\"fGeoAtt\":3084,\"fVolume\":{\"$ref\":17},\"fMother\":{\"$ref\":3},\"fNumber\":24,\"fNovlp\":0,\"fOverlaps\":[],\"fMatrix\":{\"_typename\":\"TGeoTranslation\",\"fUniqueID\":0,\"fBits\":52559872,\"fName\":\"\",\"fTitle\":\"\",\"fTranslation\":[0,0,1.1835]}},{\"_typename\":\"TGeoNodeMatrix\",\"fUniqueID\":0,\"fBits\":50331648,\"fName\":\"Emulsion2_10025\",\"fTitle\":\"\",\"fGeoAtt\":3084,\"fVolume\":{\"$ref\":6},\"fMother\":{\"$ref\":3},\"fNumber\":10025,\"fNovlp\":0,\"fOverlaps\":[],\"fMatrix\":{\"_typename\":\"TGeoTranslation\",\"fUniqueID\":0,\"fBits\":52559872,\"fName\":\"\",\"fTitle\":\"\",\"fTranslation\":[0,0,1.30275]}},{\"_typename\":\"TGeoNodeMatrix\",\"fUniqueID\":0,\"fBits\":50331648,\"fName\":\"Emulsion_25\",\"fTitle\":\"\",\"fGeoAtt\":3084,\"fVolume\":{\"$ref\":14},\"fMother\":{\"$ref\":3},\"fNumber\":25,\"fNovlp\":0,\"fOverlaps\":[],\"fMatrix\":{\"_typename\":\"TGeoTranslation\",\"fUniqueID\":0,\"fBits\":52559872,\"fName\":\"\",\"fTitle\":\"\",\"fTranslation\":[0,0,1.32725]}},{\"_typename\":\"TGeoNodeMatrix\",\"fUniqueID\":0,\"fBits\":50331648,\"fName\":\"PlasticBase_25\",\"fTitle\":\"\",\"fGeoAtt\":3084,\"fVolume\":{\"$ref\":17},\"fMother\":{\"$ref\":3},\"fNumber\":25,\"fNovlp\":0,\"fOverlaps\":[],\"fMatrix\":{\"_typename\":\"TGeoTranslation\",\"fUniqueID\":0,\"fBits\":52559872,\"fName\":\"\",\"fTitle\":\"\",\"fTranslation\":[0,0,1.315]}},{\"_typename\":\"TGeoNodeMatrix\",\"fUniqueID\":0,\"fBits\":50331648,\"fName\":\"Emulsion2_10026\",\"fTitle\":\"\",\"fGeoAtt\":3084,\"fVolume\":{\"$ref\":6},\"fMother\":{\"$ref\":3},\"fNumber\":10026,\"fNovlp\":0,\"fOverlaps\":[],\"fMatrix\":{\"_typename\":\"TGeoTranslation\",\"fUniqueID\":0,\"fBits\":52559872,\"fName\":\"\",\"fTitle\":\"\",\"fTranslation\":[0,0,1.43425]}},{\"_typename\":\"TGeoNodeMatrix\",\"fUniqueID\":0,\"fBits\":50331648,\"fName\":\"Emulsion_26\",\"fTitle\":\"\",\"fGeoAtt\":3084,\"fVolume\":{\"$ref\":14},\"fMother\":{\"$ref\":3},\"fNumber\":26,\"fNovlp\":0,\"fOverlaps\":[],\"fMatrix\":{\"_typename\":\"TGeoTranslation\",\"fUniqueID\":0,\"fBits\":52559872,\"fName\":\"\",\"fTitle\":\"\",\"fTranslation\":[0,0,1.45875]}},{\"_typename\":\"TGeoNodeMatrix\",\"fUniqueID\":0,\"fBits\":50331648,\"fName\":\"PlasticBase_26\",\"fTitle\":\"\",\"fGeoAtt\":3084,\"fVolume\":{\"$ref\":17},\"fMother\":{\"$ref\":3},\"fNumber\":26,\"fNovlp\":0,\"fOverlaps\":[],\"fMatrix\":{\"_typename\":\"TGeoTranslation\",\"fUniqueID\":0,\"fBits\":52559872,\"fName\":\"\",\"fTitle\":\"\",\"fTranslation\":[0,0,1.4465]}},{\"_typename\":\"TGeoNodeMatrix\",\"fUniqueID\":0,\"fBits\":50331648,\"fName\":\"Emulsion2_10027\",\"fTitle\":\"\",\"fGeoAtt\":3084,\"fVolume\":{\"$ref\":6},\"fMother\":{\"$ref\":3},\"fNumber\":10027,\"fNovlp\":0,\"fOverlaps\":[],\"fMatrix\":{\"_typename\":\"TGeoTranslation\",\"fUniqueID\":0,\"fBits\":52559872,\"fName\":\"\",\"fTitle\":\"\",\"fTranslation\":[0,0,1.56575]}},{\"_typename\":\"TGeoNodeMatrix\",\"fUniqueID\":0,\"fBits\":50331648,\"fName\":\"Emulsion_27\",\"fTitle\":\"\",\"fGeoAtt\":3084,\"fVolume\":{\"$ref\":14},\"fMother\":{\"$ref\":3},\"fNumber\":27,\"fNovlp\":0,\"fOverlaps\":[],\"fMatrix\":{\"_typename\":\"TGeoTranslation\",\"fUniqueID\":0,\"fBits\":52559872,\"fName\":\"\",\"fTitle\":\"\",\"fTranslation\":[0,0,1.59025]}},{\"_typename\":\"TGeoNodeMatrix\",\"fUniqueID\":0,\"fBits\":50331648,\"fName\":\"PlasticBase_27\",\"fTitle\":\"\",\"fGeoAtt\":3084,\"fVolume\":{\"$ref\":17},\"fMother\":{\"$ref\":3},\"fNumber\":27,\"fNovlp\":0,\"fOverlaps\":[],\"fMatrix\":{\"_typename\":\"TGeoTranslation\",\"fUniqueID\":0,\"fBits\":52559872,\"fName\":\"\",\"fTitle\":\"\",\"fTranslation\":[0,0,1.578]}},{\"_typename\":\"TGeoNodeMatrix\",\"fUniqueID\":0,\"fBits\":50331648,\"fName\":\"Emulsion2_10028\",\"fTitle\":\"\",\"fGeoAtt\":3084,\"fVolume\":{\"$ref\":6},\"fMother\":{\"$ref\":3},\"fNumber\":10028,\"fNovlp\":0,\"fOverlaps\":[],\"fMatrix\":{\"_typename\":\"TGeoTranslation\",\"fUniqueID\":0,\"fBits\":52559872,\"fName\":\"\",\"fTitle\":\"\",\"fTranslation\":[0,0,1.69725]}},{\"_typename\":\"TGeoNodeMatrix\",\"fUniqueID\":0,\"fBits\":50331648,\"fName\":\"Emulsion_28\",\"fTitle\":\"\",\"fGeoAtt\":3084,\"fVolume\":{\"$ref\":14},\"fMother\":{\"$ref\":3},\"fNumber\":28,\"fNovlp\":0,\"fOverlaps\":[],\"fMatrix\":{\"_typename\":\"TGeoTranslation\",\"fUniqueID\":0,\"fBits\":52559872,\"fName\":\"\",\"fTitle\":\"\",\"fTranslation\":[0,0,1.72175]}},{\"_typename\":\"TGeoNodeMatrix\",\"fUniqueID\":0,\"fBits\":50331648,\"fName\":\"PlasticBase_28\",\"fTitle\":\"\",\"fGeoAtt\":3084,\"fVolume\":{\"$ref\":17},\"fMother\":{\"$ref\":3},\"fNumber\":28,\"fNovlp\":0,\"fOverlaps\":[],\"fMatrix\":{\"_typename\":\"TGeoTranslation\",\"fUniqueID\":0,\"fBits\":52559872,\"fName\":\"\",\"fTitle\":\"\",\"fTranslation\":[0,0,1.7095]}},{\"_typename\":\"TGeoNodeMatrix\",\"fUniqueID\":0,\"fBits\":50331648,\"fName\":\"Emulsion2_10029\",\"fTitle\":\"\",\"fGeoAtt\":3084,\"fVolume\":{\"$ref\":6},\"fMother\":{\"$ref\":3},\"fNumber\":10029,\"fNovlp\":0,\"fOverlaps\":[],\"fMatrix\":{\"_typename\":\"TGeoTranslation\",\"fUniqueID\":0,\"fBits\":52559872,\"fName\":\"\",\"fTitle\":\"\",\"fTranslation\":[0,0,1.82875]}},{\"_typename\":\"TGeoNodeMatrix\",\"fUniqueID\":0,\"fBits\":50331648,\"fName\":\"Emulsion_29\",\"fTitle\":\"\",\"fGeoAtt\":3084,\"fVolume\":{\"$ref\":14},\"fMother\":{\"$ref\":3},\"fNumber\":29,\"fNovlp\":0,\"fOverlaps\":[],\"fMatrix\":{\"_typename\":\"TGeoTranslation\",\"fUniqueID\":0,\"fBits\":52559872,\"fName\":\"\",\"fTitle\":\"\",\"fTranslation\":[0,0,1.85325]}},{\"_typename\":\"TGeoNodeMatrix\",\"fUniqueID\":0,\"fBits\":50331648,\"fName\":\"PlasticBase_29\",\"fTitle\":\"\",\"fGeoAtt\":3084,\"fVolume\":{\"$ref\":17},\"fMother\":{\"$ref\":3},\"fNumber\":29,\"fNovlp\":0,\"fOverlaps\":[],\"fMatrix\":{\"_typename\":\"TGeoTranslation\",\"fUniqueID\":0,\"fBits\":52559872,\"fName\":\"\",\"fTitle\":\"\",\"fTranslation\":[0,0,1.841]}},{\"_typename\":\"TGeoNodeMatrix\",\"fUniqueID\":0,\"fBits\":50331648,\"fName\":\"volPassiveslab_1\",\"fTitle\":\"\",\"fGeoAtt\":3084,\"fVolume\":{\"_typename\":\"TGeoVolume\",\"fUniqueID\":0,\"fBits\":58736640,\"fName\":\"volPassiveslab\",\"fTitle\":\"\",\"fGeoAtt\":3212,\"fLineColor\":920,\"fLineStyle\":1,\"fLineWidth\":1,\"fFillColor\":19,\"fFillStyle\":1001,\"fNodes\":null,\"fShape\":{\"_typename\":\"TGeoBBox\",\"fUniqueID\":0,\"fBits\":50331648,\"fName\":\"Passiveslab\",\"fTitle\":\"\",\"fShapeId\":256,\"fShapeBits\":1024,\"fDX\":6.25,\"fDY\":4.95,\"fDZ\":0.05,\"fOrigin\":[0,0,0]},\"fMedium\":{\"_typename\":\"TGeoMedium\",\"fUniqueID\":0,\"fBits\":50331648,\"fName\":\"lead\",\"fTitle\":\"\",\"fId\":4,\"fParams\":[0,1,20,-1,-1,-1,0.001,-1,0,0,0,0,0,0,0,0,0,0,0,0],\"fMaterial\":{\"_typename\":\"TGeoMaterial\",\"fUniqueID\":0,\"fBits\":50462720,\"fName\":\"lead\",\"fTitle\":\"\",\"fFillColor\":19,\"fFillStyle\":3001,\"fIndex\":3,\"fA\":207.1,\"fZ\":82,\"fDensity\":11.34,\"fRadLen\":0.561956031451292,\"fIntLen\":18.2752677326212,\"fTemperature\":273.15,\"fPressure\":632420000,\"fState\":0,\"fShader\":null,\"fCerenkov\":null,\"fElement\":null,\"fProperties\":{\"_typename\":\"TList\",\"name\":\"TList\",\"arr\":[],\"opt\":[]},\"fConstProperties\":{\"_typename\":\"TList\",\"name\":\"TList\",\"arr\":[],\"opt\":[]}}},\"fFinder\":null,\"fVoxels\":null,\"fNumber\":6,\"fNtotal\":1,\"fRefCount\":28},\"fMother\":{\"$ref\":3},\"fNumber\":1,\"fNovlp\":0,\"fOverlaps\":[],\"fMatrix\":{\"_typename\":\"TGeoTranslation\",\"fUniqueID\":0,\"fBits\":52559872,\"fName\":\"\",\"fTitle\":\"\",\"fTranslation\":[0,0,-1.77525]}},{\"_typename\":\"TGeoNodeMatrix\",\"fUniqueID\":0,\"fBits\":50331648,\"fName\":\"volPassiveslab_2\",\"fTitle\":\"\",\"fGeoAtt\":3084,\"fVolume\":{\"$ref\":193},\"fMother\":{\"$ref\":3},\"fNumber\":2,\"fNovlp\":0,\"fOverlaps\":[],\"fMatrix\":{\"_typename\":\"TGeoTranslation\",\"fUniqueID\":0,\"fBits\":52559872,\"fName\":\"\",\"fTitle\":\"\",\"fTranslation\":[0,0,-1.64375]}},{\"_typename\":\"TGeoNodeMatrix\",\"fUniqueID\":0,\"fBits\":50331648,\"fName\":\"volPassiveslab_3\",\"fTitle\":\"\",\"fGeoAtt\":3084,\"fVolume\":{\"$ref\":193},\"fMother\":{\"$ref\":3},\"fNumber\":3,\"fNovlp\":0,\"fOverlaps\":[],\"fMatrix\":{\"_typename\":\"TGeoTranslation\",\"fUniqueID\":0,\"fBits\":52559872,\"fName\":\"\",\"fTitle\":\"\",\"fTranslation\":[0,0,-1.51225]}},{\"_typename\":\"TGeoNodeMatrix\",\"fUniqueID\":0,\"fBits\":50331648,\"fName\":\"volPassiveslab_4\",\"fTitle\":\"\",\"fGeoAtt\":3084,\"fVolume\":{\"$ref\":193},\"fMother\":{\"$ref\":3},\"fNumber\":4,\"fNovlp\":0,\"fOverlaps\":[],\"fMatrix\":{\"_typename\":\"TGeoTranslation\",\"fUniqueID\":0,\"fBits\":52559872,\"fName\":\"\",\"fTitle\":\"\",\"fTranslation\":[0,0,-1.38075]}},{\"_typename\":\"TGeoNodeMatrix\",\"fUniqueID\":0,\"fBits\":50331648,\"fName\":\"volPassiveslab_5\",\"fTitle\":\"\",\"fGeoAtt\":3084,\"fVolume\":{\"$ref\":193},\"fMother\":{\"$ref\":3},\"fNumber\":5,\"fNovlp\":0,\"fOverlaps\":[],\"fMatrix\":{\"_typename\":\"TGeoTranslation\",\"fUniqueID\":0,\"fBits\":52559872,\"fName\":\"\",\"fTitle\":\"\",\"fTranslation\":[0,0,-1.24925]}},{\"_typename\":\"TGeoNodeMatrix\",\"fUniqueID\":0,\"fBits\":50331648,\"fName\":\"volPassiveslab_6\",\"fTitle\":\"\",\"fGeoAtt\":3084,\"fVolume\":{\"$ref\":193},\"fMother\":{\"$ref\":3},\"fNumber\":6,\"fNovlp\":0,\"fOverlaps\":[],\"fMatrix\":{\"_typename\":\"TGeoTranslation\",\"fUniqueID\":0,\"fBits\":52559872,\"fName\":\"\",\"fTitle\":\"\",\"fTranslation\":[0,0,-1.11775]}},{\"_typename\":\"TGeoNodeMatrix\",\"fUniqueID\":0,\"fBits\":50331648,\"fName\":\"volPassiveslab_7\",\"fTitle\":\"\",\"fGeoAtt\":3084,\"fVolume\":{\"$ref\":193},\"fMother\":{\"$ref\":3},\"fNumber\":7,\"fNovlp\":0,\"fOverlaps\":[],\"fMatrix\":{\"_typename\":\"TGeoTranslation\",\"fUniqueID\":0,\"fBits\":52559872,\"fName\":\"\",\"fTitle\":\"\",\"fTranslation\":[0,0,-0.98625]}},{\"_typename\":\"TGeoNodeMatrix\",\"fUniqueID\":0,\"fBits\":50331648,\"fName\":\"volPassiveslab_8\",\"fTitle\":\"\",\"fGeoAtt\":3084,\"fVolume\":{\"$ref\":193},\"fMother\":{\"$ref\":3},\"fNumber\":8,\"fNovlp\":0,\"fOverlaps\":[],\"fMatrix\":{\"_typename\":\"TGeoTranslation\",\"fUniqueID\":0,\"fBits\":52559872,\"fName\":\"\",\"fTitle\":\"\",\"fTranslation\":[0,0,-0.85475]}},{\"_typename\":\"TGeoNodeMatrix\",\"fUniqueID\":0,\"fBits\":50331648,\"fName\":\"volPassiveslab_9\",\"fTitle\":\"\",\"fGeoAtt\":3084,\"fVolume\":{\"$ref\":193},\"fMother\":{\"$ref\":3},\"fNumber\":9,\"fNovlp\":0,\"fOverlaps\":[],\"fMatrix\":{\"_typename\":\"TGeoTranslation\",\"fUniqueID\":0,\"fBits\":52559872,\"fName\":\"\",\"fTitle\":\"\",\"fTranslation\":[0,0,-0.72325]}},{\"_typename\":\"TGeoNodeMatrix\",\"fUniqueID\":0,\"fBits\":50331648,\"fName\":\"volPassiveslab_10\",\"fTitle\":\"\",\"fGeoAtt\":3084,\"fVolume\":{\"$ref\":193},\"fMother\":{\"$ref\":3},\"fNumber\":10,\"fNovlp\":0,\"fOverlaps\":[],\"fMatrix\":{\"_typename\":\"TGeoTranslation\",\"fUniqueID\":0,\"fBits\":52559872,\"fName\":\"\",\"fTitle\":\"\",\"fTranslation\":[0,0,-0.59175]}},{\"_typename\":\"TGeoNodeMatrix\",\"fUniqueID\":0,\"fBits\":50331648,\"fName\":\"volPassiveslab_11\",\"fTitle\":\"\",\"fGeoAtt\":3084,\"fVolume\":{\"$ref\":193},\"fMother\":{\"$ref\":3},\"fNumber\":11,\"fNovlp\":0,\"fOverlaps\":[],\"fMatrix\":{\"_typename\":\"TGeoTranslation\",\"fUniqueID\":0,\"fBits\":52559872,\"fName\":\"\",\"fTitle\":\"\",\"fTranslation\":[0,0,-0.46025]}},{\"_typename\":\"TGeoNodeMatrix\",\"fUniqueID\":0,\"fBits\":50331648,\"fName\":\"volPassiveslab_12\",\"fTitle\":\"\",\"fGeoAtt\":3084,\"fVolume\":{\"$ref\":193},\"fMother\":{\"$ref\":3},\"fNumber\":12,\"fNovlp\":0,\"fOverlaps\":[],\"fMatrix\":{\"_typename\":\"TGeoTranslation\",\"fUniqueID\":0,\"fBits\":52559872,\"fName\":\"\",\"fTitle\":\"\",\"fTranslation\":[0,0,-0.32875]}},{\"_typename\":\"TGeoNodeMatrix\",\"fUniqueID\":0,\"fBits\":50331648,\"fName\":\"volPassiveslab_13\",\"fTitle\":\"\",\"fGeoAtt\":3084,\"fVolume\":{\"$ref\":193},\"fMother\":{\"$ref\":3},\"fNumber\":13,\"fNovlp\":0,\"fOverlaps\":[],\"fMatrix\":{\"_typename\":\"TGeoTranslation\",\"fUniqueID\":0,\"fBits\":52559872,\"fName\":\"\",\"fTitle\":\"\",\"fTranslation\":[0,0,-0.19725]}},{\"_typename\":\"TGeoNodeMatrix\",\"fUniqueID\":0,\"fBits\":50331648,\"fName\":\"volPassiveslab_14\",\"fTitle\":\"\",\"fGeoAtt\":3084,\"fVolume\":{\"$ref\":193},\"fMother\":{\"$ref\":3},\"fNumber\":14,\"fNovlp\":0,\"fOverlaps\":[],\"fMatrix\":{\"_typename\":\"TGeoTranslation\",\"fUniqueID\":0,\"fBits\":52559872,\"fName\":\"\",\"fTitle\":\"\",\"fTranslation\":[0,0,-0.06575]}},{\"_typename\":\"TGeoNodeMatrix\",\"fUniqueID\":0,\"fBits\":50331648,\"fName\":\"volPassiveslab_15\",\"fTitle\":\"\",\"fGeoAtt\":3084,\"fVolume\":{\"$ref\":193},\"fMother\":{\"$ref\":3},\"fNumber\":15,\"fNovlp\":0,\"fOverlaps\":[],\"fMatrix\":{\"_typename\":\"TGeoTranslation\",\"fUniqueID\":0,\"fBits\":52559872,\"fName\":\"\",\"fTitle\":\"\",\"fTranslation\":[0,0,0.0657500000000002]}},{\"_typename\":\"TGeoNodeMatrix\",\"fUniqueID\":0,\"fBits\":50331648,\"fName\":\"volPassiveslab_16\",\"fTitle\":\"\",\"fGeoAtt\":3084,\"fVolume\":{\"$ref\":193},\"fMother\":{\"$ref\":3},\"fNumber\":16,\"fNovlp\":0,\"fOverlaps\":[],\"fMatrix\":{\"_typename\":\"TGeoTranslation\",\"fUniqueID\":0,\"fBits\":52559872,\"fName\":\"\",\"fTitle\":\"\",\"fTranslation\":[0,0,0.19725]}},{\"_typename\":\"TGeoNodeMatrix\",\"fUniqueID\":0,\"fBits\":50331648,\"fName\":\"volPassiveslab_17\",\"fTitle\":\"\",\"fGeoAtt\":3084,\"fVolume\":{\"$ref\":193},\"fMother\":{\"$ref\":3},\"fNumber\":17,\"fNovlp\":0,\"fOverlaps\":[],\"fMatrix\":{\"_typename\":\"TGeoTranslation\",\"fUniqueID\":0,\"fBits\":52559872,\"fName\":\"\",\"fTitle\":\"\",\"fTranslation\":[0,0,0.32875]}},{\"_typename\":\"TGeoNodeMatrix\",\"fUniqueID\":0,\"fBits\":50331648,\"fName\":\"volPassiveslab_18\",\"fTitle\":\"\",\"fGeoAtt\":3084,\"fVolume\":{\"$ref\":193},\"fMother\":{\"$ref\":3},\"fNumber\":18,\"fNovlp\":0,\"fOverlaps\":[],\"fMatrix\":{\"_typename\":\"TGeoTranslation\",\"fUniqueID\":0,\"fBits\":52559872,\"fName\":\"\",\"fTitle\":\"\",\"fTranslation\":[0,0,0.46025]}},{\"_typename\":\"TGeoNodeMatrix\",\"fUniqueID\":0,\"fBits\":50331648,\"fName\":\"volPassiveslab_19\",\"fTitle\":\"\",\"fGeoAtt\":3084,\"fVolume\":{\"$ref\":193},\"fMother\":{\"$ref\":3},\"fNumber\":19,\"fNovlp\":0,\"fOverlaps\":[],\"fMatrix\":{\"_typename\":\"TGeoTranslation\",\"fUniqueID\":0,\"fBits\":52559872,\"fName\":\"\",\"fTitle\":\"\",\"fTranslation\":[0,0,0.59175]}},{\"_typename\":\"TGeoNodeMatrix\",\"fUniqueID\":0,\"fBits\":50331648,\"fName\":\"volPassiveslab_20\",\"fTitle\":\"\",\"fGeoAtt\":3084,\"fVolume\":{\"$ref\":193},\"fMother\":{\"$ref\":3},\"fNumber\":20,\"fNovlp\":0,\"fOverlaps\":[],\"fMatrix\":{\"_typename\":\"TGeoTranslation\",\"fUniqueID\":0,\"fBits\":52559872,\"fName\":\"\",\"fTitle\":\"\",\"fTranslation\":[0,0,0.72325]}},{\"_typename\":\"TGeoNodeMatrix\",\"fUniqueID\":0,\"fBits\":50331648,\"fName\":\"volPassiveslab_21\",\"fTitle\":\"\",\"fGeoAtt\":3084,\"fVolume\":{\"$ref\":193},\"fMother\":{\"$ref\":3},\"fNumber\":21,\"fNovlp\":0,\"fOverlaps\":[],\"fMatrix\":{\"_typename\":\"TGeoTranslation\",\"fUniqueID\":0,\"fBits\":52559872,\"fName\":\"\",\"fTitle\":\"\",\"fTranslation\":[0,0,0.85475]}},{\"_typename\":\"TGeoNodeMatrix\",\"fUniqueID\":0,\"fBits\":50331648,\"fName\":\"volPassiveslab_22\",\"fTitle\":\"\",\"fGeoAtt\":3084,\"fVolume\":{\"$ref\":193},\"fMother\":{\"$ref\":3},\"fNumber\":22,\"fNovlp\":0,\"fOverlaps\":[],\"fMatrix\":{\"_typename\":\"TGeoTranslation\",\"fUniqueID\":0,\"fBits\":52559872,\"fName\":\"\",\"fTitle\":\"\",\"fTranslation\":[0,0,0.98625]}},{\"_typename\":\"TGeoNodeMatrix\",\"fUniqueID\":0,\"fBits\":50331648,\"fName\":\"volPassiveslab_23\",\"fTitle\":\"\",\"fGeoAtt\":3084,\"fVolume\":{\"$ref\":193},\"fMother\":{\"$ref\":3},\"fNumber\":23,\"fNovlp\":0,\"fOverlaps\":[],\"fMatrix\":{\"_typename\":\"TGeoTranslation\",\"fUniqueID\":0,\"fBits\":52559872,\"fName\":\"\",\"fTitle\":\"\",\"fTranslation\":[0,0,1.11775]}},{\"_typename\":\"TGeoNodeMatrix\",\"fUniqueID\":0,\"fBits\":50331648,\"fName\":\"volPassiveslab_24\",\"fTitle\":\"\",\"fGeoAtt\":3084,\"fVolume\":{\"$ref\":193},\"fMother\":{\"$ref\":3},\"fNumber\":24,\"fNovlp\":0,\"fOverlaps\":[],\"fMatrix\":{\"_typename\":\"TGeoTranslation\",\"fUniqueID\":0,\"fBits\":52559872,\"fName\":\"\",\"fTitle\":\"\",\"fTranslation\":[0,0,1.24925]}},{\"_typename\":\"TGeoNodeMatrix\",\"fUniqueID\":0,\"fBits\":50331648,\"fName\":\"volPassiveslab_25\",\"fTitle\":\"\",\"fGeoAtt\":3084,\"fVolume\":{\"$ref\":193},\"fMother\":{\"$ref\":3},\"fNumber\":25,\"fNovlp\":0,\"fOverlaps\":[],\"fMatrix\":{\"_typename\":\"TGeoTranslation\",\"fUniqueID\":0,\"fBits\":52559872,\"fName\":\"\",\"fTitle\":\"\",\"fTranslation\":[0,0,1.38075]}},{\"_typename\":\"TGeoNodeMatrix\",\"fUniqueID\":0,\"fBits\":50331648,\"fName\":\"volPassiveslab_26\",\"fTitle\":\"\",\"fGeoAtt\":3084,\"fVolume\":{\"$ref\":193},\"fMother\":{\"$ref\":3},\"fNumber\":26,\"fNovlp\":0,\"fOverlaps\":[],\"fMatrix\":{\"_typename\":\"TGeoTranslation\",\"fUniqueID\":0,\"fBits\":52559872,\"fName\":\"\",\"fTitle\":\"\",\"fTranslation\":[0,0,1.51225]}},{\"_typename\":\"TGeoNodeMatrix\",\"fUniqueID\":0,\"fBits\":50331648,\"fName\":\"volPassiveslab_27\",\"fTitle\":\"\",\"fGeoAtt\":3084,\"fVolume\":{\"$ref\":193},\"fMother\":{\"$ref\":3},\"fNumber\":27,\"fNovlp\":0,\"fOverlaps\":[],\"fMatrix\":{\"_typename\":\"TGeoTranslation\",\"fUniqueID\":0,\"fBits\":52559872,\"fName\":\"\",\"fTitle\":\"\",\"fTranslation\":[0,0,1.64375]}},{\"_typename\":\"TGeoNodeMatrix\",\"fUniqueID\":0,\"fBits\":50331648,\"fName\":\"volPassiveslab_28\",\"fTitle\":\"\",\"fGeoAtt\":3084,\"fVolume\":{\"$ref\":193},\"fMother\":{\"$ref\":3},\"fNumber\":28,\"fNovlp\":0,\"fOverlaps\":[],\"fMatrix\":{\"_typename\":\"TGeoTranslation\",\"fUniqueID\":0,\"fBits\":52559872,\"fName\":\"\",\"fTitle\":\"\",\"fTranslation\":[0,0,1.77525]}}]},\"fShape\":{\"_typename\":\"TGeoShapeAssembly\",\"fUniqueID\":0,\"fBits\":50331648,\"fName\":\"\",\"fTitle\":\"\",\"fShapeId\":0,\"fShapeBits\":1024,\"fDX\":6.25,\"fDY\":4.95,\"fDZ\":1.85675,\"fOrigin\":[0,0,1.11022302462516e-16],\"fVolume\":{\"$ref\":3},\"fBBoxOK\":true},\"fMedium\":null,\"fFinder\":null,\"fVoxels\":null,\"fNumber\":5,\"fNtotal\":116,\"fRefCount\":116},\"fMother\":{\"$ref\":0},\"fNumber\":1,\"fNovlp\":0,\"fOverlaps\":[],\"fMatrix\":{\"_typename\":\"TGeoTranslation\",\"fUniqueID\":0,\"fBits\":52559872,\"fName\":\"\",\"fTitle\":\"\",\"fTranslation\":[0,0,-1.85675]}},{\"_typename\":\"TGeoNodeMatrix\",\"fUniqueID\":0,\"fBits\":50331648,\"fName\":\"volPassiveBrick_1\",\"fTitle\":\"\",\"fGeoAtt\":3084,\"fVolume\":{\"_typename\":\"TGeoVolume\",\"fUniqueID\":0,\"fBits\":58720256,\"fName\":\"volPassiveBrick\",\"fTitle\":\"\",\"fGeoAtt\":3212,\"fLineColor\":920,\"fLineStyle\":1,\"fLineWidth\":1,\"fFillColor\":19,\"fFillStyle\":1001,\"fNodes\":null,\"fShape\":{\"_typename\":\"TGeoBBox\",\"fUniqueID\":0,\"fBits\":50331648,\"fName\":\"PassiveBrick\",\"fTitle\":\"\",\"fShapeId\":256,\"fShapeBits\":1024,\"fDX\":6.25,\"fDY\":4.95,\"fDZ\":2.8,\"fOrigin\":[0,0,0]},\"fMedium\":{\"$ref\":195},\"fFinder\":null,\"fVoxels\":null,\"fNumber\":7,\"fNtotal\":1,\"fRefCount\":1},\"fMother\":{\"$ref\":0},\"fNumber\":1,\"fNovlp\":0,\"fOverlaps\":[],\"fMatrix\":{\"_typename\":\"TGeoTranslation\",\"fUniqueID\":0,\"fBits\":52559872,\"fName\":\"\",\"fTitle\":\"\",\"fTranslation\":[0,0,12.8]}},{\"_typename\":\"TGeoNodeMatrix\",\"fUniqueID\":0,\"fBits\":50331648,\"fName\":\"volSciFiDESY_1\",\"fTitle\":\"\",\"fGeoAtt\":3084,\"fVolume\":{\"_typename\":\"TGeoVolume\",\"fUniqueID\":0,\"fBits\":58736640,\"fName\":\"volSciFiDESY\",\"fTitle\":\"\",\"fGeoAtt\":3212,\"fLineColor\":632,\"fLineStyle\":1,\"fLineWidth\":1,\"fFillColor\":19,\"fFillStyle\":1001,\"fNodes\":null,\"fShape\":{\"_typename\":\"TGeoBBox\",\"fUniqueID\":0,\"fBits\":50331648,\"fName\":\"SciFiDESY\",\"fTitle\":\"\",\"fShapeId\":256,\"fShapeBits\":1024,\"fDX\":7.5,\"fDY\":7.5,\"fDZ\":0.5,\"fOrigin\":[0,0,0]},\"fMedium\":{\"_typename\":\"TGeoMedium\",\"fUniqueID\":0,\"fBits\":50331648,\"fName\":\"air\",\"fTitle\":\"\",\"fId\":1,\"fParams\":[0,1,30,-1,-1,-1,0.001,-1,0,0,0,0,0,0,0,0,0,0,0,0],\"fMaterial\":{\"_typename\":\"TGeoMixture\",\"fUniqueID\":0,\"fBits\":50462720,\"fName\":\"air\",\"fTitle\":\"\",\"fFillColor\":19,\"fFillStyle\":1001,\"fIndex\":0,\"fA\":14.83285,\"fZ\":7.385,\"fDensity\":0.001205,\"fRadLen\":30245.4187714961,\"fIntLen\":71036.3443943348,\"fTemperature\":273.15,\"fPressure\":632420000,\"fState\":0,\"fShader\":null,\"fCerenkov\":null,\"fElement\":null,\"fProperties\":{\"_typename\":\"TList\",\"name\":\"TList\",\"arr\":[],\"opt\":[]},\"fConstProperties\":{\"_typename\":\"TList\",\"name\":\"TList\",\"arr\":[],\"opt\":[]},\"fNelements\":3,\"fZmixture\":[7,8,18],\"fAmixture\":[14.01,16,39.95],\"fWeights\":[0.755,0.231,0.014],\"fNatoms\":[],\"fVecNbOfAtomsPerVolume\":[],\"fElements\":null}},\"fFinder\":null,\"fVoxels\":null,\"fNumber\":8,\"fNtotal\":1,\"fRefCount\":2},\"fMother\":{\"$ref\":0},\"fNumber\":1,\"fNovlp\":0,\"fOverlaps\":[],\"fMatrix\":{\"_typename\":\"TGeoTranslation\",\"fUniqueID\":0,\"fBits\":52559872,\"fName\":\"\",\"fTitle\":\"\",\"fTranslation\":[0,0,5]}},{\"_typename\":\"TGeoNodeMatrix\",\"fUniqueID\":0,\"fBits\":50331648,\"fName\":\"volSciFiDESY_2\",\"fTitle\":\"\",\"fGeoAtt\":3084,\"fVolume\":{\"$ref\":261},\"fMother\":{\"$ref\":0},\"fNumber\":2,\"fNovlp\":0,\"fOverlaps\":[],\"fMatrix\":{\"_typename\":\"TGeoTranslation\",\"fUniqueID\":0,\"fBits\":52559872,\"fName\":\"\",\"fTitle\":\"\",\"fTranslation\":[0,0,20.6]}}]},\"fShape\":{\"_typename\":\"TGeoBBox\",\"fUniqueID\":0,\"fBits\":50331648,\"fName\":\"cave\",\"fTitle\":\"\",\"fShapeId\":256,\"fShapeBits\":1024,\"fDX\":20000,\"fDY\":20000,\"fDZ\":20000,\"fOrigin\":[0,0,0]},\"fMedium\":{\"$ref\":263},\"fFinder\":null,\"fVoxels\":null,\"fNumber\":1,\"fNtotal\":120,\"fRefCount\":4});\n",
       "       Core.draw(\"root_plot_1\", obj, \"all\");\n",
       "     }\n",
       " );\n",
       "</script>\n"
      ],
      "text/plain": [
       "<IPython.core.display.HTML object>"
      ]
     },
     "metadata": {},
     "output_type": "display_data"
    }
   ],
   "source": [
    "topvolume = DESYgeometry.GetTopVolume()\n",
    "DESYgeometry.SetVisLevel(3)\n",
    "topvolume.Draw()"
   ]
  },
  {
   "cell_type": "markdown",
   "metadata": {
    "slideshow": {
     "slide_type": "slide"
    }
   },
   "source": [
    "Se oltre ai volumi si vuole accedere al display degli eventi MC simulati, si può inoltre usare l'EventDisplay.\n",
    "### Output testuale\n",
    "Spesso, è necessario avere informazioni precise sulla posizione e sulla dimensione dei componenti della geometria. Pertanto, si può usare il codice di FairShip getGeoInformation.py:"
   ]
  },
  {
   "cell_type": "code",
   "execution_count": 7,
   "metadata": {
    "slideshow": {
     "slide_type": "subslide"
    }
   },
   "outputs": [
    {
     "name": "stdout",
     "output_type": "stream",
     "text": [
      "Info in <TGeoManager::CloseGeometry>: Geometry loaded from file...\n",
      "Info in <TGeoManager::SetTopVolume>: Top volume is cave. Master volume is cave\n",
      "Info in <TGeoNavigator::BuildCache>: --- Maximum geometry depth set to 100\n",
      "Info in <TGeoManager::Voxelize>: Voxelizing...\n",
      "Info in <TGeoManager::CountLevels>: max level = 2, max placements = 115\n",
      "Info in <TGeoManager::CloseGeometry>: 120 nodes/ 8 volume UID's in FAIR geometry\n",
      "Info in <TGeoManager::CloseGeometry>: ----------------modeler ready----------------\n",
      "   Detector element             z(midpoint)     halflength       volume-start volume-end   dx                x-start       x-end       dy                y-start       y-end         material\n",
      "volTarget_1                 : z=   -1.8567cm  dZ=    1.8568cm  [   -3.7135       0.0000] dx=    6.2500cm [   -6.2500       6.2500] dy=    4.9500cm [   -4.9500       4.9500]                dummy\n",
      "volSciFiDESY_1              : z=    5.0000cm  dZ=    0.5000cm  [    4.5000       5.5000] dx=    7.5000cm [   -7.5000       7.5000] dy=    7.5000cm [   -7.5000       7.5000]                  air\n",
      "volPassiveBrick_1           : z=   12.8000cm  dZ=    2.8000cm  [   10.0000      15.6000] dx=    6.2500cm [   -6.2500       6.2500] dy=    4.9500cm [   -4.9500       4.9500]                 lead\n",
      "volSciFiDESY_2              : z=   20.6000cm  dZ=    0.5000cm  [   20.1000      21.1000] dx=    7.5000cm [   -7.5000       7.5000] dy=    7.5000cm [   -7.5000       7.5000]                  air\n"
     ]
    }
   ],
   "source": [
    "!python $FAIRSHIP/macro/getGeoInformation.py -g testdir/geofile_full.conical.PG_11-TGeant4.root"
   ]
  },
  {
   "cell_type": "markdown",
   "metadata": {
    "slideshow": {
     "slide_type": "slide"
    }
   },
   "source": [
    "Possiamo vedere posizioni e dimensioni (o meglio, mezze dimensioni) dei rivelatori coinvolti: il bersaglio di emulsioni, il bersaglio passivo e i due rivelatori SciFi. Si può anche espandere un volume per vedere i rivelatori all'interno:"
   ]
  },
  {
   "cell_type": "code",
   "execution_count": 8,
   "metadata": {
    "slideshow": {
     "slide_type": "subslide"
    }
   },
   "outputs": [
    {
     "name": "stdout",
     "output_type": "stream",
     "text": [
      "Info in <TGeoManager::CloseGeometry>: Geometry loaded from file...\n",
      "Info in <TGeoManager::SetTopVolume>: Top volume is cave. Master volume is cave\n",
      "Info in <TGeoNavigator::BuildCache>: --- Maximum geometry depth set to 100\n",
      "Info in <TGeoManager::Voxelize>: Voxelizing...\n",
      "Info in <TGeoManager::CountLevels>: max level = 2, max placements = 115\n",
      "Info in <TGeoManager::CloseGeometry>: 120 nodes/ 8 volume UID's in FAIR geometry\n",
      "Info in <TGeoManager::CloseGeometry>: ----------------modeler ready----------------\n",
      "   Detector element             z(midpoint)     halflength       volume-start volume-end   dx                x-start       x-end       dy                y-start       y-end         material\n",
      "volTarget_1                 : z=   -1.8567cm  dZ=    1.8568cm  [   -3.7135       0.0000] dx=    6.2500cm [   -6.2500       6.2500] dy=    4.9500cm [   -4.9500       4.9500]                dummy\n",
      "   Emulsion2_10001          : z=   -3.7100cm  dZ=    0.0035cm  [   -3.7135      -3.7065] dx=    6.2500cm [   -6.2500       6.2500] dy=    4.9500cm [   -4.9500       4.9500]      NuclearEmulsion\n",
      "   PlasticBase_1            : z=   -3.6978cm  dZ=    0.0088cm  [   -3.7065      -3.6890] dx=    6.2500cm [   -6.2500       6.2500] dy=    4.9500cm [   -4.9500       4.9500]          PlasticBase\n",
      "   Emulsion_1               : z=   -3.6855cm  dZ=    0.0035cm  [   -3.6890      -3.6820] dx=    6.2500cm [   -6.2500       6.2500] dy=    4.9500cm [   -4.9500       4.9500]      NuclearEmulsion\n",
      "   volPassiveslab_1         : z=   -3.6320cm  dZ=    0.0500cm  [   -3.6820      -3.5820] dx=    6.2500cm [   -6.2500       6.2500] dy=    4.9500cm [   -4.9500       4.9500]                 lead\n",
      "   Emulsion2_10002          : z=   -3.5785cm  dZ=    0.0035cm  [   -3.5820      -3.5750] dx=    6.2500cm [   -6.2500       6.2500] dy=    4.9500cm [   -4.9500       4.9500]      NuclearEmulsion\n",
      "   PlasticBase_2            : z=   -3.5663cm  dZ=    0.0088cm  [   -3.5750      -3.5575] dx=    6.2500cm [   -6.2500       6.2500] dy=    4.9500cm [   -4.9500       4.9500]          PlasticBase\n",
      "   Emulsion_2               : z=   -3.5540cm  dZ=    0.0035cm  [   -3.5575      -3.5505] dx=    6.2500cm [   -6.2500       6.2500] dy=    4.9500cm [   -4.9500       4.9500]      NuclearEmulsion\n",
      "   volPassiveslab_2         : z=   -3.5005cm  dZ=    0.0500cm  [   -3.5505      -3.4505] dx=    6.2500cm [   -6.2500       6.2500] dy=    4.9500cm [   -4.9500       4.9500]                 lead\n",
      "   Emulsion2_10003          : z=   -3.4470cm  dZ=    0.0035cm  [   -3.4505      -3.4435] dx=    6.2500cm [   -6.2500       6.2500] dy=    4.9500cm [   -4.9500       4.9500]      NuclearEmulsion\n",
      "   PlasticBase_3            : z=   -3.4348cm  dZ=    0.0088cm  [   -3.4435      -3.4260] dx=    6.2500cm [   -6.2500       6.2500] dy=    4.9500cm [   -4.9500       4.9500]          PlasticBase\n",
      "   Emulsion_3               : z=   -3.4225cm  dZ=    0.0035cm  [   -3.4260      -3.4190] dx=    6.2500cm [   -6.2500       6.2500] dy=    4.9500cm [   -4.9500       4.9500]      NuclearEmulsion\n",
      "   volPassiveslab_3         : z=   -3.3690cm  dZ=    0.0500cm  [   -3.4190      -3.3190] dx=    6.2500cm [   -6.2500       6.2500] dy=    4.9500cm [   -4.9500       4.9500]                 lead\n",
      "   Emulsion2_10004          : z=   -3.3155cm  dZ=    0.0035cm  [   -3.3190      -3.3120] dx=    6.2500cm [   -6.2500       6.2500] dy=    4.9500cm [   -4.9500       4.9500]      NuclearEmulsion\n",
      "   PlasticBase_4            : z=   -3.3033cm  dZ=    0.0088cm  [   -3.3120      -3.2945] dx=    6.2500cm [   -6.2500       6.2500] dy=    4.9500cm [   -4.9500       4.9500]          PlasticBase\n",
      "   Emulsion_4               : z=   -3.2910cm  dZ=    0.0035cm  [   -3.2945      -3.2875] dx=    6.2500cm [   -6.2500       6.2500] dy=    4.9500cm [   -4.9500       4.9500]      NuclearEmulsion\n",
      "   volPassiveslab_4         : z=   -3.2375cm  dZ=    0.0500cm  [   -3.2875      -3.1875] dx=    6.2500cm [   -6.2500       6.2500] dy=    4.9500cm [   -4.9500       4.9500]                 lead\n",
      "   Emulsion2_10005          : z=   -3.1840cm  dZ=    0.0035cm  [   -3.1875      -3.1805] dx=    6.2500cm [   -6.2500       6.2500] dy=    4.9500cm [   -4.9500       4.9500]      NuclearEmulsion\n",
      "   PlasticBase_5            : z=   -3.1718cm  dZ=    0.0088cm  [   -3.1805      -3.1630] dx=    6.2500cm [   -6.2500       6.2500] dy=    4.9500cm [   -4.9500       4.9500]          PlasticBase\n",
      "   Emulsion_5               : z=   -3.1595cm  dZ=    0.0035cm  [   -3.1630      -3.1560] dx=    6.2500cm [   -6.2500       6.2500] dy=    4.9500cm [   -4.9500       4.9500]      NuclearEmulsion\n",
      "   volPassiveslab_5         : z=   -3.1060cm  dZ=    0.0500cm  [   -3.1560      -3.0560] dx=    6.2500cm [   -6.2500       6.2500] dy=    4.9500cm [   -4.9500       4.9500]                 lead\n",
      "   Emulsion2_10006          : z=   -3.0525cm  dZ=    0.0035cm  [   -3.0560      -3.0490] dx=    6.2500cm [   -6.2500       6.2500] dy=    4.9500cm [   -4.9500       4.9500]      NuclearEmulsion\n",
      "   PlasticBase_6            : z=   -3.0403cm  dZ=    0.0088cm  [   -3.0490      -3.0315] dx=    6.2500cm [   -6.2500       6.2500] dy=    4.9500cm [   -4.9500       4.9500]          PlasticBase\n",
      "   Emulsion_6               : z=   -3.0280cm  dZ=    0.0035cm  [   -3.0315      -3.0245] dx=    6.2500cm [   -6.2500       6.2500] dy=    4.9500cm [   -4.9500       4.9500]      NuclearEmulsion\n",
      "   volPassiveslab_6         : z=   -2.9745cm  dZ=    0.0500cm  [   -3.0245      -2.9245] dx=    6.2500cm [   -6.2500       6.2500] dy=    4.9500cm [   -4.9500       4.9500]                 lead\n",
      "   Emulsion2_10007          : z=   -2.9210cm  dZ=    0.0035cm  [   -2.9245      -2.9175] dx=    6.2500cm [   -6.2500       6.2500] dy=    4.9500cm [   -4.9500       4.9500]      NuclearEmulsion\n",
      "   PlasticBase_7            : z=   -2.9088cm  dZ=    0.0088cm  [   -2.9175      -2.9000] dx=    6.2500cm [   -6.2500       6.2500] dy=    4.9500cm [   -4.9500       4.9500]          PlasticBase\n",
      "   Emulsion_7               : z=   -2.8965cm  dZ=    0.0035cm  [   -2.9000      -2.8930] dx=    6.2500cm [   -6.2500       6.2500] dy=    4.9500cm [   -4.9500       4.9500]      NuclearEmulsion\n",
      "   volPassiveslab_7         : z=   -2.8430cm  dZ=    0.0500cm  [   -2.8930      -2.7930] dx=    6.2500cm [   -6.2500       6.2500] dy=    4.9500cm [   -4.9500       4.9500]                 lead\n",
      "   Emulsion2_10008          : z=   -2.7895cm  dZ=    0.0035cm  [   -2.7930      -2.7860] dx=    6.2500cm [   -6.2500       6.2500] dy=    4.9500cm [   -4.9500       4.9500]      NuclearEmulsion\n",
      "   PlasticBase_8            : z=   -2.7772cm  dZ=    0.0088cm  [   -2.7860      -2.7685] dx=    6.2500cm [   -6.2500       6.2500] dy=    4.9500cm [   -4.9500       4.9500]          PlasticBase\n",
      "   Emulsion_8               : z=   -2.7650cm  dZ=    0.0035cm  [   -2.7685      -2.7615] dx=    6.2500cm [   -6.2500       6.2500] dy=    4.9500cm [   -4.9500       4.9500]      NuclearEmulsion\n",
      "   volPassiveslab_8         : z=   -2.7115cm  dZ=    0.0500cm  [   -2.7615      -2.6615] dx=    6.2500cm [   -6.2500       6.2500] dy=    4.9500cm [   -4.9500       4.9500]                 lead\n",
      "   Emulsion2_10009          : z=   -2.6580cm  dZ=    0.0035cm  [   -2.6615      -2.6545] dx=    6.2500cm [   -6.2500       6.2500] dy=    4.9500cm [   -4.9500       4.9500]      NuclearEmulsion\n",
      "   PlasticBase_9            : z=   -2.6458cm  dZ=    0.0088cm  [   -2.6545      -2.6370] dx=    6.2500cm [   -6.2500       6.2500] dy=    4.9500cm [   -4.9500       4.9500]          PlasticBase\n",
      "   Emulsion_9               : z=   -2.6335cm  dZ=    0.0035cm  [   -2.6370      -2.6300] dx=    6.2500cm [   -6.2500       6.2500] dy=    4.9500cm [   -4.9500       4.9500]      NuclearEmulsion\n",
      "   volPassiveslab_9         : z=   -2.5800cm  dZ=    0.0500cm  [   -2.6300      -2.5300] dx=    6.2500cm [   -6.2500       6.2500] dy=    4.9500cm [   -4.9500       4.9500]                 lead\n",
      "   Emulsion2_10010          : z=   -2.5265cm  dZ=    0.0035cm  [   -2.5300      -2.5230] dx=    6.2500cm [   -6.2500       6.2500] dy=    4.9500cm [   -4.9500       4.9500]      NuclearEmulsion\n",
      "   PlasticBase_10           : z=   -2.5143cm  dZ=    0.0088cm  [   -2.5230      -2.5055] dx=    6.2500cm [   -6.2500       6.2500] dy=    4.9500cm [   -4.9500       4.9500]          PlasticBase\n",
      "   Emulsion_10              : z=   -2.5020cm  dZ=    0.0035cm  [   -2.5055      -2.4985] dx=    6.2500cm [   -6.2500       6.2500] dy=    4.9500cm [   -4.9500       4.9500]      NuclearEmulsion\n",
      "   volPassiveslab_10        : z=   -2.4485cm  dZ=    0.0500cm  [   -2.4985      -2.3985] dx=    6.2500cm [   -6.2500       6.2500] dy=    4.9500cm [   -4.9500       4.9500]                 lead\n",
      "   Emulsion2_10011          : z=   -2.3950cm  dZ=    0.0035cm  [   -2.3985      -2.3915] dx=    6.2500cm [   -6.2500       6.2500] dy=    4.9500cm [   -4.9500       4.9500]      NuclearEmulsion\n",
      "   PlasticBase_11           : z=   -2.3828cm  dZ=    0.0088cm  [   -2.3915      -2.3740] dx=    6.2500cm [   -6.2500       6.2500] dy=    4.9500cm [   -4.9500       4.9500]          PlasticBase\n",
      "   Emulsion_11              : z=   -2.3705cm  dZ=    0.0035cm  [   -2.3740      -2.3670] dx=    6.2500cm [   -6.2500       6.2500] dy=    4.9500cm [   -4.9500       4.9500]      NuclearEmulsion\n",
      "   volPassiveslab_11        : z=   -2.3170cm  dZ=    0.0500cm  [   -2.3670      -2.2670] dx=    6.2500cm [   -6.2500       6.2500] dy=    4.9500cm [   -4.9500       4.9500]                 lead\n",
      "   Emulsion2_10012          : z=   -2.2635cm  dZ=    0.0035cm  [   -2.2670      -2.2600] dx=    6.2500cm [   -6.2500       6.2500] dy=    4.9500cm [   -4.9500       4.9500]      NuclearEmulsion\n",
      "   PlasticBase_12           : z=   -2.2513cm  dZ=    0.0088cm  [   -2.2600      -2.2425] dx=    6.2500cm [   -6.2500       6.2500] dy=    4.9500cm [   -4.9500       4.9500]          PlasticBase\n",
      "   Emulsion_12              : z=   -2.2390cm  dZ=    0.0035cm  [   -2.2425      -2.2355] dx=    6.2500cm [   -6.2500       6.2500] dy=    4.9500cm [   -4.9500       4.9500]      NuclearEmulsion\n",
      "   volPassiveslab_12        : z=   -2.1855cm  dZ=    0.0500cm  [   -2.2355      -2.1355] dx=    6.2500cm [   -6.2500       6.2500] dy=    4.9500cm [   -4.9500       4.9500]                 lead\n",
      "   Emulsion2_10013          : z=   -2.1320cm  dZ=    0.0035cm  [   -2.1355      -2.1285] dx=    6.2500cm [   -6.2500       6.2500] dy=    4.9500cm [   -4.9500       4.9500]      NuclearEmulsion\n",
      "   PlasticBase_13           : z=   -2.1198cm  dZ=    0.0088cm  [   -2.1285      -2.1110] dx=    6.2500cm [   -6.2500       6.2500] dy=    4.9500cm [   -4.9500       4.9500]          PlasticBase\n",
      "   Emulsion_13              : z=   -2.1075cm  dZ=    0.0035cm  [   -2.1110      -2.1040] dx=    6.2500cm [   -6.2500       6.2500] dy=    4.9500cm [   -4.9500       4.9500]      NuclearEmulsion\n",
      "   volPassiveslab_13        : z=   -2.0540cm  dZ=    0.0500cm  [   -2.1040      -2.0040] dx=    6.2500cm [   -6.2500       6.2500] dy=    4.9500cm [   -4.9500       4.9500]                 lead\n",
      "   Emulsion2_10014          : z=   -2.0005cm  dZ=    0.0035cm  [   -2.0040      -1.9970] dx=    6.2500cm [   -6.2500       6.2500] dy=    4.9500cm [   -4.9500       4.9500]      NuclearEmulsion\n",
      "   PlasticBase_14           : z=   -1.9883cm  dZ=    0.0088cm  [   -1.9970      -1.9795] dx=    6.2500cm [   -6.2500       6.2500] dy=    4.9500cm [   -4.9500       4.9500]          PlasticBase\n",
      "   Emulsion_14              : z=   -1.9760cm  dZ=    0.0035cm  [   -1.9795      -1.9725] dx=    6.2500cm [   -6.2500       6.2500] dy=    4.9500cm [   -4.9500       4.9500]      NuclearEmulsion\n",
      "   volPassiveslab_14        : z=   -1.9225cm  dZ=    0.0500cm  [   -1.9725      -1.8725] dx=    6.2500cm [   -6.2500       6.2500] dy=    4.9500cm [   -4.9500       4.9500]                 lead\n",
      "   Emulsion2_10015          : z=   -1.8690cm  dZ=    0.0035cm  [   -1.8725      -1.8655] dx=    6.2500cm [   -6.2500       6.2500] dy=    4.9500cm [   -4.9500       4.9500]      NuclearEmulsion\n",
      "   PlasticBase_15           : z=   -1.8568cm  dZ=    0.0088cm  [   -1.8655      -1.8480] dx=    6.2500cm [   -6.2500       6.2500] dy=    4.9500cm [   -4.9500       4.9500]          PlasticBase\n",
      "   Emulsion_15              : z=   -1.8445cm  dZ=    0.0035cm  [   -1.8480      -1.8410] dx=    6.2500cm [   -6.2500       6.2500] dy=    4.9500cm [   -4.9500       4.9500]      NuclearEmulsion\n",
      "   volPassiveslab_15        : z=   -1.7910cm  dZ=    0.0500cm  [   -1.8410      -1.7410] dx=    6.2500cm [   -6.2500       6.2500] dy=    4.9500cm [   -4.9500       4.9500]                 lead\n",
      "   Emulsion2_10016          : z=   -1.7375cm  dZ=    0.0035cm  [   -1.7410      -1.7340] dx=    6.2500cm [   -6.2500       6.2500] dy=    4.9500cm [   -4.9500       4.9500]      NuclearEmulsion\n",
      "   PlasticBase_16           : z=   -1.7253cm  dZ=    0.0088cm  [   -1.7340      -1.7165] dx=    6.2500cm [   -6.2500       6.2500] dy=    4.9500cm [   -4.9500       4.9500]          PlasticBase\n",
      "   Emulsion_16              : z=   -1.7130cm  dZ=    0.0035cm  [   -1.7165      -1.7095] dx=    6.2500cm [   -6.2500       6.2500] dy=    4.9500cm [   -4.9500       4.9500]      NuclearEmulsion\n",
      "   volPassiveslab_16        : z=   -1.6595cm  dZ=    0.0500cm  [   -1.7095      -1.6095] dx=    6.2500cm [   -6.2500       6.2500] dy=    4.9500cm [   -4.9500       4.9500]                 lead\n",
      "   Emulsion2_10017          : z=   -1.6060cm  dZ=    0.0035cm  [   -1.6095      -1.6025] dx=    6.2500cm [   -6.2500       6.2500] dy=    4.9500cm [   -4.9500       4.9500]      NuclearEmulsion\n",
      "   PlasticBase_17           : z=   -1.5938cm  dZ=    0.0088cm  [   -1.6025      -1.5850] dx=    6.2500cm [   -6.2500       6.2500] dy=    4.9500cm [   -4.9500       4.9500]          PlasticBase\n",
      "   Emulsion_17              : z=   -1.5815cm  dZ=    0.0035cm  [   -1.5850      -1.5780] dx=    6.2500cm [   -6.2500       6.2500] dy=    4.9500cm [   -4.9500       4.9500]      NuclearEmulsion\n",
      "   volPassiveslab_17        : z=   -1.5280cm  dZ=    0.0500cm  [   -1.5780      -1.4780] dx=    6.2500cm [   -6.2500       6.2500] dy=    4.9500cm [   -4.9500       4.9500]                 lead\n",
      "   Emulsion2_10018          : z=   -1.4745cm  dZ=    0.0035cm  [   -1.4780      -1.4710] dx=    6.2500cm [   -6.2500       6.2500] dy=    4.9500cm [   -4.9500       4.9500]      NuclearEmulsion\n",
      "   PlasticBase_18           : z=   -1.4623cm  dZ=    0.0088cm  [   -1.4710      -1.4535] dx=    6.2500cm [   -6.2500       6.2500] dy=    4.9500cm [   -4.9500       4.9500]          PlasticBase\n",
      "   Emulsion_18              : z=   -1.4500cm  dZ=    0.0035cm  [   -1.4535      -1.4465] dx=    6.2500cm [   -6.2500       6.2500] dy=    4.9500cm [   -4.9500       4.9500]      NuclearEmulsion\n",
      "   volPassiveslab_18        : z=   -1.3965cm  dZ=    0.0500cm  [   -1.4465      -1.3465] dx=    6.2500cm [   -6.2500       6.2500] dy=    4.9500cm [   -4.9500       4.9500]                 lead\n",
      "   Emulsion2_10019          : z=   -1.3430cm  dZ=    0.0035cm  [   -1.3465      -1.3395] dx=    6.2500cm [   -6.2500       6.2500] dy=    4.9500cm [   -4.9500       4.9500]      NuclearEmulsion\n",
      "   PlasticBase_19           : z=   -1.3308cm  dZ=    0.0088cm  [   -1.3395      -1.3220] dx=    6.2500cm [   -6.2500       6.2500] dy=    4.9500cm [   -4.9500       4.9500]          PlasticBase\n",
      "   Emulsion_19              : z=   -1.3185cm  dZ=    0.0035cm  [   -1.3220      -1.3150] dx=    6.2500cm [   -6.2500       6.2500] dy=    4.9500cm [   -4.9500       4.9500]      NuclearEmulsion\n",
      "   volPassiveslab_19        : z=   -1.2650cm  dZ=    0.0500cm  [   -1.3150      -1.2150] dx=    6.2500cm [   -6.2500       6.2500] dy=    4.9500cm [   -4.9500       4.9500]                 lead\n",
      "   Emulsion2_10020          : z=   -1.2115cm  dZ=    0.0035cm  [   -1.2150      -1.2080] dx=    6.2500cm [   -6.2500       6.2500] dy=    4.9500cm [   -4.9500       4.9500]      NuclearEmulsion\n",
      "   PlasticBase_20           : z=   -1.1993cm  dZ=    0.0088cm  [   -1.2080      -1.1905] dx=    6.2500cm [   -6.2500       6.2500] dy=    4.9500cm [   -4.9500       4.9500]          PlasticBase\n",
      "   Emulsion_20              : z=   -1.1870cm  dZ=    0.0035cm  [   -1.1905      -1.1835] dx=    6.2500cm [   -6.2500       6.2500] dy=    4.9500cm [   -4.9500       4.9500]      NuclearEmulsion\n",
      "   volPassiveslab_20        : z=   -1.1335cm  dZ=    0.0500cm  [   -1.1835      -1.0835] dx=    6.2500cm [   -6.2500       6.2500] dy=    4.9500cm [   -4.9500       4.9500]                 lead\n",
      "   Emulsion2_10021          : z=   -1.0800cm  dZ=    0.0035cm  [   -1.0835      -1.0765] dx=    6.2500cm [   -6.2500       6.2500] dy=    4.9500cm [   -4.9500       4.9500]      NuclearEmulsion\n",
      "   PlasticBase_21           : z=   -1.0678cm  dZ=    0.0088cm  [   -1.0765      -1.0590] dx=    6.2500cm [   -6.2500       6.2500] dy=    4.9500cm [   -4.9500       4.9500]          PlasticBase\n",
      "   Emulsion_21              : z=   -1.0555cm  dZ=    0.0035cm  [   -1.0590      -1.0520] dx=    6.2500cm [   -6.2500       6.2500] dy=    4.9500cm [   -4.9500       4.9500]      NuclearEmulsion\n",
      "   volPassiveslab_21        : z=   -1.0020cm  dZ=    0.0500cm  [   -1.0520      -0.9520] dx=    6.2500cm [   -6.2500       6.2500] dy=    4.9500cm [   -4.9500       4.9500]                 lead\n",
      "   Emulsion2_10022          : z=   -0.9485cm  dZ=    0.0035cm  [   -0.9520      -0.9450] dx=    6.2500cm [   -6.2500       6.2500] dy=    4.9500cm [   -4.9500       4.9500]      NuclearEmulsion\n",
      "   PlasticBase_22           : z=   -0.9362cm  dZ=    0.0088cm  [   -0.9450      -0.9275] dx=    6.2500cm [   -6.2500       6.2500] dy=    4.9500cm [   -4.9500       4.9500]          PlasticBase\n",
      "   Emulsion_22              : z=   -0.9240cm  dZ=    0.0035cm  [   -0.9275      -0.9205] dx=    6.2500cm [   -6.2500       6.2500] dy=    4.9500cm [   -4.9500       4.9500]      NuclearEmulsion\n",
      "   volPassiveslab_22        : z=   -0.8705cm  dZ=    0.0500cm  [   -0.9205      -0.8205] dx=    6.2500cm [   -6.2500       6.2500] dy=    4.9500cm [   -4.9500       4.9500]                 lead\n",
      "   Emulsion2_10023          : z=   -0.8170cm  dZ=    0.0035cm  [   -0.8205      -0.8135] dx=    6.2500cm [   -6.2500       6.2500] dy=    4.9500cm [   -4.9500       4.9500]      NuclearEmulsion\n",
      "   PlasticBase_23           : z=   -0.8048cm  dZ=    0.0088cm  [   -0.8135      -0.7960] dx=    6.2500cm [   -6.2500       6.2500] dy=    4.9500cm [   -4.9500       4.9500]          PlasticBase\n",
      "   Emulsion_23              : z=   -0.7925cm  dZ=    0.0035cm  [   -0.7960      -0.7890] dx=    6.2500cm [   -6.2500       6.2500] dy=    4.9500cm [   -4.9500       4.9500]      NuclearEmulsion\n",
      "   volPassiveslab_23        : z=   -0.7390cm  dZ=    0.0500cm  [   -0.7890      -0.6890] dx=    6.2500cm [   -6.2500       6.2500] dy=    4.9500cm [   -4.9500       4.9500]                 lead\n",
      "   Emulsion2_10024          : z=   -0.6855cm  dZ=    0.0035cm  [   -0.6890      -0.6820] dx=    6.2500cm [   -6.2500       6.2500] dy=    4.9500cm [   -4.9500       4.9500]      NuclearEmulsion\n",
      "   PlasticBase_24           : z=   -0.6733cm  dZ=    0.0088cm  [   -0.6820      -0.6645] dx=    6.2500cm [   -6.2500       6.2500] dy=    4.9500cm [   -4.9500       4.9500]          PlasticBase\n",
      "   Emulsion_24              : z=   -0.6610cm  dZ=    0.0035cm  [   -0.6645      -0.6575] dx=    6.2500cm [   -6.2500       6.2500] dy=    4.9500cm [   -4.9500       4.9500]      NuclearEmulsion\n",
      "   volPassiveslab_24        : z=   -0.6075cm  dZ=    0.0500cm  [   -0.6575      -0.5575] dx=    6.2500cm [   -6.2500       6.2500] dy=    4.9500cm [   -4.9500       4.9500]                 lead\n",
      "   Emulsion2_10025          : z=   -0.5540cm  dZ=    0.0035cm  [   -0.5575      -0.5505] dx=    6.2500cm [   -6.2500       6.2500] dy=    4.9500cm [   -4.9500       4.9500]      NuclearEmulsion\n",
      "   PlasticBase_25           : z=   -0.5418cm  dZ=    0.0088cm  [   -0.5505      -0.5330] dx=    6.2500cm [   -6.2500       6.2500] dy=    4.9500cm [   -4.9500       4.9500]          PlasticBase\n",
      "   Emulsion_25              : z=   -0.5295cm  dZ=    0.0035cm  [   -0.5330      -0.5260] dx=    6.2500cm [   -6.2500       6.2500] dy=    4.9500cm [   -4.9500       4.9500]      NuclearEmulsion\n",
      "   volPassiveslab_25        : z=   -0.4760cm  dZ=    0.0500cm  [   -0.5260      -0.4260] dx=    6.2500cm [   -6.2500       6.2500] dy=    4.9500cm [   -4.9500       4.9500]                 lead\n",
      "   Emulsion2_10026          : z=   -0.4225cm  dZ=    0.0035cm  [   -0.4260      -0.4190] dx=    6.2500cm [   -6.2500       6.2500] dy=    4.9500cm [   -4.9500       4.9500]      NuclearEmulsion\n",
      "   PlasticBase_26           : z=   -0.4103cm  dZ=    0.0087cm  [   -0.4190      -0.4015] dx=    6.2500cm [   -6.2500       6.2500] dy=    4.9500cm [   -4.9500       4.9500]          PlasticBase\n",
      "   Emulsion_26              : z=   -0.3980cm  dZ=    0.0035cm  [   -0.4015      -0.3945] dx=    6.2500cm [   -6.2500       6.2500] dy=    4.9500cm [   -4.9500       4.9500]      NuclearEmulsion\n",
      "   volPassiveslab_26        : z=   -0.3445cm  dZ=    0.0500cm  [   -0.3945      -0.2945] dx=    6.2500cm [   -6.2500       6.2500] dy=    4.9500cm [   -4.9500       4.9500]                 lead\n",
      "   Emulsion2_10027          : z=   -0.2910cm  dZ=    0.0035cm  [   -0.2945      -0.2875] dx=    6.2500cm [   -6.2500       6.2500] dy=    4.9500cm [   -4.9500       4.9500]      NuclearEmulsion\n",
      "   PlasticBase_27           : z=   -0.2788cm  dZ=    0.0087cm  [   -0.2875      -0.2700] dx=    6.2500cm [   -6.2500       6.2500] dy=    4.9500cm [   -4.9500       4.9500]          PlasticBase\n",
      "   Emulsion_27              : z=   -0.2665cm  dZ=    0.0035cm  [   -0.2700      -0.2630] dx=    6.2500cm [   -6.2500       6.2500] dy=    4.9500cm [   -4.9500       4.9500]      NuclearEmulsion\n",
      "   volPassiveslab_27        : z=   -0.2130cm  dZ=    0.0500cm  [   -0.2630      -0.1630] dx=    6.2500cm [   -6.2500       6.2500] dy=    4.9500cm [   -4.9500       4.9500]                 lead\n",
      "   Emulsion2_10028          : z=   -0.1595cm  dZ=    0.0035cm  [   -0.1630      -0.1560] dx=    6.2500cm [   -6.2500       6.2500] dy=    4.9500cm [   -4.9500       4.9500]      NuclearEmulsion\n",
      "   PlasticBase_28           : z=   -0.1473cm  dZ=    0.0088cm  [   -0.1560      -0.1385] dx=    6.2500cm [   -6.2500       6.2500] dy=    4.9500cm [   -4.9500       4.9500]          PlasticBase\n",
      "   Emulsion_28              : z=   -0.1350cm  dZ=    0.0035cm  [   -0.1385      -0.1315] dx=    6.2500cm [   -6.2500       6.2500] dy=    4.9500cm [   -4.9500       4.9500]      NuclearEmulsion\n",
      "   volPassiveslab_28        : z=   -0.0815cm  dZ=    0.0500cm  [   -0.1315      -0.0315] dx=    6.2500cm [   -6.2500       6.2500] dy=    4.9500cm [   -4.9500       4.9500]                 lead\n",
      "   Emulsion2_10029          : z=   -0.0280cm  dZ=    0.0035cm  [   -0.0315      -0.0245] dx=    6.2500cm [   -6.2500       6.2500] dy=    4.9500cm [   -4.9500       4.9500]      NuclearEmulsion\n",
      "   PlasticBase_29           : z=   -0.0157cm  dZ=    0.0088cm  [   -0.0245      -0.0070] dx=    6.2500cm [   -6.2500       6.2500] dy=    4.9500cm [   -4.9500       4.9500]          PlasticBase\n",
      "   Emulsion_29              : z=   -0.0035cm  dZ=    0.0035cm  [   -0.0070       0.0000] dx=    6.2500cm [   -6.2500       6.2500] dy=    4.9500cm [   -4.9500       4.9500]      NuclearEmulsion\n",
      "volSciFiDESY_1              : z=    5.0000cm  dZ=    0.5000cm  [    4.5000       5.5000] dx=    7.5000cm [   -7.5000       7.5000] dy=    7.5000cm [   -7.5000       7.5000]                  air\n",
      "volPassiveBrick_1           : z=   12.8000cm  dZ=    2.8000cm  [   10.0000      15.6000] dx=    6.2500cm [   -6.2500       6.2500] dy=    4.9500cm [   -4.9500       4.9500]                 lead\n",
      "volSciFiDESY_2              : z=   20.6000cm  dZ=    0.5000cm  [   20.1000      21.1000] dx=    7.5000cm [   -7.5000       7.5000] dy=    7.5000cm [   -7.5000       7.5000]                  air\n"
     ]
    }
   ],
   "source": [
    "!python $FAIRSHIP/macro/getGeoInformation.py -g testdir/geofile_full.conical.PG_11-TGeant4.root -v volTarget_1 -l 1"
   ]
  },
  {
   "cell_type": "markdown",
   "metadata": {
    "slideshow": {
     "slide_type": "slide"
    }
   },
   "source": [
    "## File di simulazione\n",
    "Il file con i risultati della simulazione è ship.conical.PG_11-TGeant4.root. Contiene i seguenti oggetti:\n",
    "* MCEventHeader: con informazioni generali sull'evento;\n",
    "* MCTrack: lista di tracce (ShipMCTrack) prodotte dall'evento;\n",
    "* EmuDESYPoint: hit lasciati dalle tracce in emulsione;\n",
    "* SciFiDESYPoint: hit lasciati dalle tracce negli SciFi;"
   ]
  },
  {
   "cell_type": "markdown",
   "metadata": {
    "slideshow": {
     "slide_type": "slide"
    }
   },
   "source": [
    "### Ispezione rapida\n",
    "Possiamo usare le funzioni TTree Draw per ispezionare rapidamente i contenuti. Per esempio, le energie degli elettroni (pdg 11) o positroni (pdg -11) prodotti:"
   ]
  },
  {
   "cell_type": "code",
   "execution_count": 13,
   "metadata": {
    "slideshow": {
     "slide_type": "slide"
    }
   },
   "outputs": [],
   "source": [
    "# apro il file ed estraggo il tree di simulazione\n",
    "simfile = r.TFile.Open(\"testdir/ship.conical.PG_11-TGeant4.root\")\n",
    "simtree = simfile.Get(\"cbmsim\")"
   ]
  },
  {
   "cell_type": "code",
   "execution_count": 14,
   "metadata": {
    "slideshow": {
     "slide_type": "subslide"
    }
   },
   "outputs": [],
   "source": [
    "%jsroot on \n",
    "#attiviamo il display interattivo nel tutorial"
   ]
  },
  {
   "cell_type": "code",
   "execution_count": 15,
   "metadata": {
    "slideshow": {
     "slide_type": "slide"
    }
   },
   "outputs": [
    {
     "data": {
      "text/html": [
       "\n",
       "<div id=\"root_plot_4\"\n",
       "     style=\"width: 696px; height: 472px\">\n",
       "</div>\n",
       "\n",
       "<script>\n",
       " requirejs.config({\n",
       "     paths: {\n",
       "       'JSRootCore' : 'https://root.cern.ch/js/notebook//scripts/JSRootCore',\n",
       "     }\n",
       "   });\n",
       " require(['JSRootCore'],\n",
       "     function(Core) {\n",
       "       var obj = Core.JSONR_unref({\"_typename\":\"TCanvas\",\"fUniqueID\":0,\"fBits\":53673992,\"fLineColor\":1,\"fLineStyle\":1,\"fLineWidth\":1,\"fFillColor\":0,\"fFillStyle\":1001,\"fLeftMargin\":0.1,\"fRightMargin\":0.1,\"fBottomMargin\":0.1,\"fTopMargin\":0.1,\"fXfile\":2,\"fYfile\":2,\"fAfile\":1,\"fXstat\":0.99,\"fYstat\":0.99,\"fAstat\":2,\"fFrameFillColor\":0,\"fFrameLineColor\":1,\"fFrameFillStyle\":1001,\"fFrameLineStyle\":1,\"fFrameLineWidth\":1,\"fFrameBorderSize\":1,\"fFrameBorderMode\":0,\"fX1\":-0.268750020023437,\"fY1\":-6564.46923909106,\"fX2\":2.41875002002344,\"fY2\":59080.2192390911,\"fXtoAbsPixelk\":69.6000541484835,\"fXtoPixelk\":69.6000541484835,\"fXtoPixel\":258.976740326992,\"fYtoAbsPixelk\":424.800047186661,\"fYtoPixelk\":424.800047186661,\"fYtoPixel\":-0.0071902237780727,\"fUtoAbsPixelk\":5e-5,\"fUtoPixelk\":5e-5,\"fUtoPixel\":696,\"fVtoAbsPixelk\":472.00005,\"fVtoPixelk\":472,\"fVtoPixel\":-472,\"fAbsPixeltoXk\":-0.268750020023437,\"fPixeltoXk\":-0.268750020023437,\"fPixeltoX\":0.00386135063225126,\"fAbsPixeltoYk\":59080.2192390911,\"fPixeltoYk\":-6564.46923909106,\"fPixeltoY\":-139.077729826657,\"fXlowNDC\":0,\"fYlowNDC\":0,\"fXUpNDC\":0,\"fYUpNDC\":0,\"fWNDC\":1,\"fHNDC\":1,\"fAbsXlowNDC\":0,\"fAbsYlowNDC\":0,\"fAbsWNDC\":1,\"fAbsHNDC\":1,\"fUxmin\":0,\"fUymin\":0,\"fUxmax\":2.15,\"fUymax\":52515.75,\"fTheta\":30,\"fPhi\":30,\"fAspectRatio\":0,\"fNumber\":0,\"fTickx\":0,\"fTicky\":0,\"fLogx\":0,\"fLogy\":0,\"fLogz\":0,\"fPadPaint\":0,\"fCrosshair\":0,\"fCrosshairPos\":0,\"fBorderSize\":2,\"fBorderMode\":0,\"fModified\":false,\"fGridx\":false,\"fGridy\":false,\"fAbsCoord\":false,\"fEditable\":true,\"fFixedAspectRatio\":false,\"fPrimitives\":{\"_typename\":\"TList\",\"name\":\"TList\",\"arr\":[{\"_typename\":\"TFrame\",\"fUniqueID\":0,\"fBits\":50331656,\"fLineColor\":1,\"fLineStyle\":1,\"fLineWidth\":1,\"fFillColor\":0,\"fFillStyle\":1001,\"fX1\":0,\"fY1\":0,\"fX2\":2.15,\"fY2\":52515.75,\"fBorderSize\":1,\"fBorderMode\":0},{\"_typename\":\"TH1F\",\"fUniqueID\":0,\"fBits\":50331657,\"fName\":\"htemp\",\"fTitle\":\"MCTrack.GetEnergy() {TMath::Abs(MCTrack.GetPdgCode())==11}\",\"fLineColor\":602,\"fLineStyle\":1,\"fLineWidth\":1,\"fFillColor\":0,\"fFillStyle\":1001,\"fMarkerColor\":1,\"fMarkerStyle\":1,\"fMarkerSize\":1,\"fNcells\":102,\"fXaxis\":{\"_typename\":\"TAxis\",\"fUniqueID\":0,\"fBits\":50331648,\"fName\":\"xaxis\",\"fTitle\":\"MCTrack.GetEnergy()\",\"fNdivisions\":510,\"fAxisColor\":1,\"fLabelColor\":1,\"fLabelFont\":42,\"fLabelOffset\":0.005,\"fLabelSize\":0.035,\"fTickLength\":0.03,\"fTitleOffset\":1,\"fTitleSize\":0.035,\"fTitleColor\":1,\"fTitleFont\":42,\"fNbins\":100,\"fXmin\":0,\"fXmax\":2.15,\"fXbins\":[],\"fFirst\":1,\"fLast\":100,\"fBits2\":0,\"fTimeDisplay\":false,\"fTimeFormat\":\"\",\"fLabels\":null,\"fModLabs\":null},\"fYaxis\":{\"_typename\":\"TAxis\",\"fUniqueID\":0,\"fBits\":50331648,\"fName\":\"yaxis\",\"fTitle\":\"\",\"fNdivisions\":510,\"fAxisColor\":1,\"fLabelColor\":1,\"fLabelFont\":42,\"fLabelOffset\":0.005,\"fLabelSize\":0.035,\"fTickLength\":0.03,\"fTitleOffset\":0,\"fTitleSize\":0.035,\"fTitleColor\":1,\"fTitleFont\":42,\"fNbins\":1,\"fXmin\":0,\"fXmax\":1,\"fXbins\":[],\"fFirst\":0,\"fLast\":0,\"fBits2\":0,\"fTimeDisplay\":false,\"fTimeFormat\":\"\",\"fLabels\":null,\"fModLabs\":null},\"fZaxis\":{\"_typename\":\"TAxis\",\"fUniqueID\":0,\"fBits\":50331648,\"fName\":\"zaxis\",\"fTitle\":\"\",\"fNdivisions\":510,\"fAxisColor\":1,\"fLabelColor\":1,\"fLabelFont\":42,\"fLabelOffset\":0.005,\"fLabelSize\":0.035,\"fTickLength\":0.03,\"fTitleOffset\":1,\"fTitleSize\":0.035,\"fTitleColor\":1,\"fTitleFont\":42,\"fNbins\":1,\"fXmin\":0,\"fXmax\":1,\"fXbins\":[],\"fFirst\":0,\"fLast\":0,\"fBits2\":0,\"fTimeDisplay\":false,\"fTimeFormat\":\"\",\"fLabels\":null,\"fModLabs\":null},\"fBarOffset\":0,\"fBarWidth\":1000,\"fEntries\":73745,\"fTsumw\":73745,\"fTsumw2\":73745,\"fTsumwx\":5057.09200047183,\"fTsumwx2\":4965.56252358775,\"fMaximum\":-1111,\"fMinimum\":-1111,\"fNormFactor\":0,\"fContour\":[],\"fSumw2\":[],\"fOption\":\"\",\"fFunctions\":{\"_typename\":\"TList\",\"name\":\"TList\",\"arr\":[{\"_typename\":\"TPaveStats\",\"fUniqueID\":0,\"fBits\":50331657,\"fLineColor\":1,\"fLineStyle\":1,\"fLineWidth\":1,\"fFillColor\":0,\"fFillStyle\":1001,\"fX1\":1.82750005446375,\"fY1\":44310.1647227729,\"fX2\":2.3650000704825,\"fY2\":54813.3146445184,\"fX1NDC\":0.780000016093254,\"fY1NDC\":0.775000005960464,\"fX2NDC\":0.980000019073486,\"fY2NDC\":0.935000002384186,\"fBorderSize\":1,\"fInit\":1,\"fShadowColor\":1,\"fCornerRadius\":0,\"fOption\":\"brNDC\",\"fName\":\"stats\",\"fTextAngle\":0,\"fTextSize\":0,\"fTextAlign\":12,\"fTextColor\":1,\"fTextFont\":42,\"fLabel\":\"\",\"fLongest\":18,\"fMargin\":0.05,\"fLines\":{\"_typename\":\"TList\",\"name\":\"TList\",\"arr\":[{\"_typename\":\"TLatex\",\"fUniqueID\":0,\"fBits\":50331648,\"fName\":\"\",\"fTitle\":\"htemp\",\"fTextAngle\":0,\"fTextSize\":0.0368,\"fTextAlign\":0,\"fTextColor\":0,\"fTextFont\":0,\"fX\":0,\"fY\":0,\"fLineColor\":1,\"fLineStyle\":1,\"fLineWidth\":2,\"fLimitFactorSize\":3,\"fOriginSize\":0.0368000008165836},{\"_typename\":\"TLatex\",\"fUniqueID\":0,\"fBits\":50331648,\"fName\":\"\",\"fTitle\":\"Entries = 73745  \",\"fTextAngle\":0,\"fTextSize\":0,\"fTextAlign\":0,\"fTextColor\":0,\"fTextFont\":0,\"fX\":0,\"fY\":0,\"fLineColor\":1,\"fLineStyle\":1,\"fLineWidth\":2,\"fLimitFactorSize\":3,\"fOriginSize\":0.04},{\"_typename\":\"TLatex\",\"fUniqueID\":0,\"fBits\":50331648,\"fName\":\"\",\"fTitle\":\"Mean  = 0.06858\",\"fTextAngle\":0,\"fTextSize\":0,\"fTextAlign\":0,\"fTextColor\":0,\"fTextFont\":0,\"fX\":0,\"fY\":0,\"fLineColor\":1,\"fLineStyle\":1,\"fLineWidth\":2,\"fLimitFactorSize\":3,\"fOriginSize\":0.04},{\"_typename\":\"TLatex\",\"fUniqueID\":0,\"fBits\":50331648,\"fName\":\"\",\"fTitle\":\"Std Dev   = 0.2503\",\"fTextAngle\":0,\"fTextSize\":0,\"fTextAlign\":0,\"fTextColor\":0,\"fTextFont\":0,\"fX\":0,\"fY\":0,\"fLineColor\":1,\"fLineStyle\":1,\"fLineWidth\":2,\"fLimitFactorSize\":3,\"fOriginSize\":0.04}],\"opt\":[\"\",\"\",\"\",\"\"]},\"fOptFit\":0,\"fOptStat\":1111,\"fFitFormat\":\"5.4g\",\"fStatFormat\":\"6.4g\",\"fParent\":{\"$ref\":3}}],\"opt\":[\"brNDC\"]},\"fBufferSize\":0,\"fBuffer\":[],\"fBinStatErrOpt\":0,\"fStatOverflows\":2,\"fArray\":[0,50015,8767,3719,2038,1495,1249,866,685,510,413,326,271,250,212,172,158,151,131,122,108,77,75,64,61,52,51,46,47,39,40,29,35,36,30,32,25,20,26,18,9,25,16,15,15,12,10,10,13,10,12,12,5,14,11,15,6,6,8,6,1,4,5,3,3,2,6,1,3,3,3,3,3,1,1,3,2,0,1,1,0,2,2,0,0,1,0,0,0,0,0,0,0,0,1000,0,0,0,0,0,0,0]},{\"_typename\":\"TPaveText\",\"fUniqueID\":0,\"fBits\":50331657,\"fLineColor\":1,\"fLineStyle\":1,\"fLineWidth\":1,\"fFillColor\":0,\"fFillStyle\":0,\"fX1\":0.134374985983594,\"fY1\":54746.5574907107,\"fX2\":2.01562501401641,\"fY2\":58751.9961097184,\"fX1NDC\":0.15,\"fY1NDC\":0.933983055615829,\"fX2NDC\":0.85,\"fY2NDC\":0.995000004768372,\"fBorderSize\":0,\"fInit\":1,\"fShadowColor\":1,\"fCornerRadius\":0,\"fOption\":\"blNDC\",\"fName\":\"title\",\"fTextAngle\":0,\"fTextSize\":0,\"fTextAlign\":22,\"fTextColor\":1,\"fTextFont\":42,\"fLabel\":\"\",\"fLongest\":58,\"fMargin\":0.05,\"fLines\":{\"_typename\":\"TList\",\"name\":\"TList\",\"arr\":[{\"_typename\":\"TLatex\",\"fUniqueID\":0,\"fBits\":50331648,\"fName\":\"\",\"fTitle\":\"MCTrack.GetEnergy() {TMath::Abs(MCTrack.GetPdgCode())==11}\",\"fTextAngle\":0,\"fTextSize\":0,\"fTextAlign\":0,\"fTextColor\":0,\"fTextFont\":0,\"fX\":0,\"fY\":0,\"fLineColor\":1,\"fLineStyle\":1,\"fLineWidth\":2,\"fLimitFactorSize\":3,\"fOriginSize\":0.0518644079566002}],\"opt\":[\"\"]}}],\"opt\":[\"\",\"\",\"blNDC\"]},\"fExecs\":null,\"fName\":\"c1_n4\",\"fTitle\":\"c1_n4\",\"fNumPaletteColor\":0,\"fNextPaletteColor\":0,\"fDISPLAY\":\"$DISPLAY\",\"fDoubleBuffer\":0,\"fRetained\":true,\"fXsizeUser\":0,\"fYsizeUser\":0,\"fXsizeReal\":20,\"fYsizeReal\":14.28571,\"fWindowTopX\":0,\"fWindowTopY\":0,\"fWindowWidth\":0,\"fWindowHeight\":0,\"fCw\":696,\"fCh\":472,\"fCatt\":{\"_typename\":\"TAttCanvas\",\"fXBetween\":2,\"fYBetween\":2,\"fTitleFromTop\":1.2,\"fXdate\":0.2,\"fYdate\":0.3,\"fAdate\":1},\"kMoveOpaque\":true,\"kResizeOpaque\":true,\"fHighLightColor\":2,\"fBatch\":true,\"kShowEventStatus\":false,\"kAutoExec\":true,\"kMenuBar\":true});\n",
       "       Core.draw(\"root_plot_4\", obj, \"\");\n",
       "     }\n",
       " );\n",
       "</script>\n"
      ],
      "text/plain": [
       "<IPython.core.display.HTML object>"
      ]
     },
     "metadata": {},
     "output_type": "display_data"
    }
   ],
   "source": [
    "canvas = r.TCanvas()\n",
    "simtree.Draw(\"MCTrack.GetEnergy()\",\"TMath::Abs(MCTrack.GetPdgCode())==11\")\n",
    "canvas.Draw()"
   ]
  },
  {
   "cell_type": "markdown",
   "metadata": {
    "slideshow": {
     "slide_type": "slide"
    }
   },
   "source": [
    "Oppure, gli hit lasciati dagli elettroni in emulsione. DetectorID nel nostro caso è il numero di hit nell'emulsione, che va da a 1 a 29:"
   ]
  },
  {
   "cell_type": "code",
   "execution_count": 12,
   "metadata": {
    "slideshow": {
     "slide_type": "subslide"
    }
   },
   "outputs": [
    {
     "data": {
      "text/html": [
       "\n",
       "<div id=\"root_plot_3\"\n",
       "     style=\"width: 696px; height: 472px\">\n",
       "</div>\n",
       "\n",
       "<script>\n",
       " requirejs.config({\n",
       "     paths: {\n",
       "       'JSRootCore' : 'https://root.cern.ch/js/notebook//scripts/JSRootCore',\n",
       "     }\n",
       "   });\n",
       " require(['JSRootCore'],\n",
       "     function(Core) {\n",
       "       var obj = Core.JSONR_unref({\"_typename\":\"TCanvas\",\"fUniqueID\":0,\"fBits\":53673992,\"fLineColor\":1,\"fLineStyle\":1,\"fLineWidth\":1,\"fFillColor\":0,\"fFillStyle\":1001,\"fLeftMargin\":0.1,\"fRightMargin\":0.1,\"fBottomMargin\":0.1,\"fTopMargin\":0.1,\"fXfile\":2,\"fYfile\":2,\"fAfile\":1,\"fXstat\":0.99,\"fYstat\":0.99,\"fAstat\":2,\"fFrameFillColor\":0,\"fFrameLineColor\":1,\"fFrameFillStyle\":1001,\"fFrameLineStyle\":1,\"fFrameLineWidth\":1,\"fFrameBorderSize\":1,\"fFrameBorderMode\":0,\"fX1\":-3.87500028871002,\"fY1\":-1981.35014762209,\"fX2\":34.87500028871,\"fY2\":17832.1501476221,\"fXtoAbsPixelk\":69.6000541484835,\"fXtoPixelk\":69.6000541484835,\"fXtoPixel\":17.9612900549366,\"fYtoAbsPixelk\":424.800047186661,\"fYtoPixelk\":424.800047186661,\"fYtoPixel\":-0.0238221411142227,\"fUtoAbsPixelk\":5e-5,\"fUtoPixelk\":5e-5,\"fUtoPixel\":696,\"fVtoAbsPixelk\":472.00005,\"fVtoPixelk\":472,\"fVtoPixel\":-472,\"fAbsPixeltoXk\":-3.87500028871002,\"fPixeltoXk\":-3.87500028871002,\"fPixeltoX\":0.0556752881859483,\"fAbsPixeltoYk\":17832.1501476221,\"fPixeltoYk\":-1981.35014762209,\"fPixeltoY\":-41.9777548628055,\"fXlowNDC\":0,\"fYlowNDC\":0,\"fXUpNDC\":0,\"fYUpNDC\":0,\"fWNDC\":1,\"fHNDC\":1,\"fAbsXlowNDC\":0,\"fAbsYlowNDC\":0,\"fAbsWNDC\":1,\"fAbsHNDC\":1,\"fUxmin\":0,\"fUymin\":0,\"fUxmax\":31,\"fUymax\":15850.8,\"fTheta\":30,\"fPhi\":30,\"fAspectRatio\":0,\"fNumber\":0,\"fTickx\":0,\"fTicky\":0,\"fLogx\":0,\"fLogy\":0,\"fLogz\":0,\"fPadPaint\":0,\"fCrosshair\":0,\"fCrosshairPos\":0,\"fBorderSize\":2,\"fBorderMode\":0,\"fModified\":false,\"fGridx\":false,\"fGridy\":false,\"fAbsCoord\":false,\"fEditable\":true,\"fFixedAspectRatio\":false,\"fPrimitives\":{\"_typename\":\"TList\",\"name\":\"TList\",\"arr\":[{\"_typename\":\"TFrame\",\"fUniqueID\":0,\"fBits\":50331656,\"fLineColor\":1,\"fLineStyle\":1,\"fLineWidth\":1,\"fFillColor\":0,\"fFillStyle\":1001,\"fX1\":0,\"fY1\":0,\"fX2\":31,\"fY2\":15850.8,\"fBorderSize\":1,\"fBorderMode\":0},{\"_typename\":\"TH1F\",\"fUniqueID\":0,\"fBits\":50331657,\"fName\":\"htemp\",\"fTitle\":\"EmuDESYPoint.GetDetectorID() {TMath::Abs(EmuDESYPoint.PdgCode())==11}\",\"fLineColor\":602,\"fLineStyle\":1,\"fLineWidth\":1,\"fFillColor\":0,\"fFillStyle\":1001,\"fMarkerColor\":1,\"fMarkerStyle\":1,\"fMarkerSize\":1,\"fNcells\":33,\"fXaxis\":{\"_typename\":\"TAxis\",\"fUniqueID\":0,\"fBits\":54525952,\"fName\":\"xaxis\",\"fTitle\":\"EmuDESYPoint.GetDetectorID()\",\"fNdivisions\":510,\"fAxisColor\":1,\"fLabelColor\":1,\"fLabelFont\":42,\"fLabelOffset\":0.005,\"fLabelSize\":0.035,\"fTickLength\":0.03,\"fTitleOffset\":1,\"fTitleSize\":0.035,\"fTitleColor\":1,\"fTitleFont\":42,\"fNbins\":31,\"fXmin\":0,\"fXmax\":31,\"fXbins\":[],\"fFirst\":1,\"fLast\":100,\"fBits2\":0,\"fTimeDisplay\":false,\"fTimeFormat\":\"\",\"fLabels\":null,\"fModLabs\":null},\"fYaxis\":{\"_typename\":\"TAxis\",\"fUniqueID\":0,\"fBits\":50331648,\"fName\":\"yaxis\",\"fTitle\":\"\",\"fNdivisions\":510,\"fAxisColor\":1,\"fLabelColor\":1,\"fLabelFont\":42,\"fLabelOffset\":0.005,\"fLabelSize\":0.035,\"fTickLength\":0.03,\"fTitleOffset\":0,\"fTitleSize\":0.035,\"fTitleColor\":1,\"fTitleFont\":42,\"fNbins\":1,\"fXmin\":0,\"fXmax\":1,\"fXbins\":[],\"fFirst\":0,\"fLast\":0,\"fBits2\":0,\"fTimeDisplay\":false,\"fTimeFormat\":\"\",\"fLabels\":null,\"fModLabs\":null},\"fZaxis\":{\"_typename\":\"TAxis\",\"fUniqueID\":0,\"fBits\":50331648,\"fName\":\"zaxis\",\"fTitle\":\"\",\"fNdivisions\":510,\"fAxisColor\":1,\"fLabelColor\":1,\"fLabelFont\":42,\"fLabelOffset\":0.005,\"fLabelSize\":0.035,\"fTickLength\":0.03,\"fTitleOffset\":1,\"fTitleSize\":0.035,\"fTitleColor\":1,\"fTitleFont\":42,\"fNbins\":1,\"fXmin\":0,\"fXmax\":1,\"fXbins\":[],\"fFirst\":0,\"fLast\":0,\"fBits2\":0,\"fTimeDisplay\":false,\"fTimeFormat\":\"\",\"fLabels\":null,\"fModLabs\":null},\"fBarOffset\":0,\"fBarWidth\":1000,\"fEntries\":283574,\"fTsumw\":283574,\"fTsumw2\":283574,\"fTsumwx\":5372966,\"fTsumwx2\":114292684,\"fMaximum\":-1111,\"fMinimum\":-1111,\"fNormFactor\":0,\"fContour\":[],\"fSumw2\":[],\"fOption\":\"\",\"fFunctions\":{\"_typename\":\"TList\",\"name\":\"TList\",\"arr\":[{\"_typename\":\"TPaveStats\",\"fUniqueID\":0,\"fBits\":50331657,\"fLineColor\":1,\"fLineStyle\":1,\"fLineWidth\":1,\"fFillColor\":0,\"fFillStyle\":1001,\"fX1\":26.3500007852912,\"fY1\":13374.1126992898,\"fX2\":34.1000010162592,\"fY2\":16544.2726756703,\"fX1NDC\":0.780000016093254,\"fY1NDC\":0.775000005960464,\"fX2NDC\":0.980000019073486,\"fY2NDC\":0.935000002384186,\"fBorderSize\":1,\"fInit\":1,\"fShadowColor\":1,\"fCornerRadius\":0,\"fOption\":\"brNDC\",\"fName\":\"stats\",\"fTextAngle\":0,\"fTextSize\":0,\"fTextAlign\":12,\"fTextColor\":1,\"fTextFont\":42,\"fLabel\":\"\",\"fLongest\":18,\"fMargin\":0.05,\"fLines\":{\"_typename\":\"TList\",\"name\":\"TList\",\"arr\":[{\"_typename\":\"TLatex\",\"fUniqueID\":0,\"fBits\":50331648,\"fName\":\"\",\"fTitle\":\"htemp\",\"fTextAngle\":0,\"fTextSize\":0.0368,\"fTextAlign\":0,\"fTextColor\":0,\"fTextFont\":0,\"fX\":0,\"fY\":0,\"fLineColor\":1,\"fLineStyle\":1,\"fLineWidth\":2,\"fLimitFactorSize\":3,\"fOriginSize\":0.0368000008165836},{\"_typename\":\"TLatex\",\"fUniqueID\":0,\"fBits\":50331648,\"fName\":\"\",\"fTitle\":\"Entries = 283574 \",\"fTextAngle\":0,\"fTextSize\":0,\"fTextAlign\":0,\"fTextColor\":0,\"fTextFont\":0,\"fX\":0,\"fY\":0,\"fLineColor\":1,\"fLineStyle\":1,\"fLineWidth\":2,\"fLimitFactorSize\":3,\"fOriginSize\":0.04},{\"_typename\":\"TLatex\",\"fUniqueID\":0,\"fBits\":50331648,\"fName\":\"\",\"fTitle\":\"Mean  =  18.95\",\"fTextAngle\":0,\"fTextSize\":0,\"fTextAlign\":0,\"fTextColor\":0,\"fTextFont\":0,\"fX\":0,\"fY\":0,\"fLineColor\":1,\"fLineStyle\":1,\"fLineWidth\":2,\"fLimitFactorSize\":3,\"fOriginSize\":0.04},{\"_typename\":\"TLatex\",\"fUniqueID\":0,\"fBits\":50331648,\"fName\":\"\",\"fTitle\":\"Std Dev   =  6.636\",\"fTextAngle\":0,\"fTextSize\":0,\"fTextAlign\":0,\"fTextColor\":0,\"fTextFont\":0,\"fX\":0,\"fY\":0,\"fLineColor\":1,\"fLineStyle\":1,\"fLineWidth\":2,\"fLimitFactorSize\":3,\"fOriginSize\":0.04}],\"opt\":[\"\",\"\",\"\",\"\"]},\"fOptFit\":0,\"fOptStat\":1111,\"fFitFormat\":\"5.4g\",\"fStatFormat\":\"6.4g\",\"fParent\":{\"$ref\":3}}],\"opt\":[\"brNDC\"]},\"fBufferSize\":0,\"fBuffer\":[],\"fBinStatErrOpt\":0,\"fStatOverflows\":2,\"fArray\":[0,0,1032,1266,1579,2111,2829,3611,4404,5154,6146,7256,8165,9378,10138,11003,11691,12441,13016,13631,14154,14757,14931,15096,14922,14926,14747,14998,14951,14210,11031,0,0]},{\"_typename\":\"TPaveText\",\"fUniqueID\":0,\"fBits\":50331657,\"fLineColor\":1,\"fLineStyle\":1,\"fLineWidth\":1,\"fFillColor\":0,\"fFillStyle\":0,\"fX1\":1.93749979790299,\"fY1\":16524.1234005752,\"fX2\":29.062500202097,\"fY2\":17733.082740624,\"fX1NDC\":0.15,\"fY1NDC\":0.933983055615829,\"fX2NDC\":0.85,\"fY2NDC\":0.995000004768372,\"fBorderSize\":0,\"fInit\":1,\"fShadowColor\":1,\"fCornerRadius\":0,\"fOption\":\"blNDC\",\"fName\":\"title\",\"fTextAngle\":0,\"fTextSize\":0,\"fTextAlign\":22,\"fTextColor\":1,\"fTextFont\":42,\"fLabel\":\"\",\"fLongest\":69,\"fMargin\":0.05,\"fLines\":{\"_typename\":\"TList\",\"name\":\"TList\",\"arr\":[{\"_typename\":\"TLatex\",\"fUniqueID\":0,\"fBits\":50331648,\"fName\":\"\",\"fTitle\":\"EmuDESYPoint.GetDetectorID() {TMath::Abs(EmuDESYPoint.PdgCode())==11}\",\"fTextAngle\":0,\"fTextSize\":0,\"fTextAlign\":0,\"fTextColor\":0,\"fTextFont\":0,\"fX\":0,\"fY\":0,\"fLineColor\":1,\"fLineStyle\":1,\"fLineWidth\":2,\"fLimitFactorSize\":3,\"fOriginSize\":0.0518644079566002}],\"opt\":[\"\"]}}],\"opt\":[\"\",\"\",\"blNDC\"]},\"fExecs\":null,\"fName\":\"c1_n3\",\"fTitle\":\"c1_n3\",\"fNumPaletteColor\":0,\"fNextPaletteColor\":0,\"fDISPLAY\":\"$DISPLAY\",\"fDoubleBuffer\":0,\"fRetained\":true,\"fXsizeUser\":0,\"fYsizeUser\":0,\"fXsizeReal\":20,\"fYsizeReal\":14.28571,\"fWindowTopX\":0,\"fWindowTopY\":0,\"fWindowWidth\":0,\"fWindowHeight\":0,\"fCw\":696,\"fCh\":472,\"fCatt\":{\"_typename\":\"TAttCanvas\",\"fXBetween\":2,\"fYBetween\":2,\"fTitleFromTop\":1.2,\"fXdate\":0.2,\"fYdate\":0.3,\"fAdate\":1},\"kMoveOpaque\":true,\"kResizeOpaque\":true,\"fHighLightColor\":2,\"fBatch\":true,\"kShowEventStatus\":false,\"kAutoExec\":true,\"kMenuBar\":true});\n",
       "       Core.draw(\"root_plot_3\", obj, \"\");\n",
       "     }\n",
       " );\n",
       "</script>\n"
      ],
      "text/plain": [
       "<IPython.core.display.HTML object>"
      ]
     },
     "metadata": {},
     "output_type": "display_data"
    }
   ],
   "source": [
    "canvas2 = r.TCanvas()\n",
    "simtree.Draw(\"EmuDESYPoint.GetDetectorID()\",\"TMath::Abs(EmuDESYPoint.PdgCode())==11\")\n",
    "canvas2.Draw()"
   ]
  },
  {
   "cell_type": "markdown",
   "metadata": {
    "slideshow": {
     "slide_type": "slide"
    }
   },
   "source": [
    "### Tabella dei Run di DESY19\n",
    "Ecco l'elenco dei run per (--desy19 nrun) e relative differenze. Sono impostati in $FAIRSHIP/geometry/desy19-geometry_config:\n",
    "\n",
    "| RUN | N emulsioni | Energia elettrone | Note aggiuntive|\n",
    "|------|------|------|------|\n",
    "| 1 | 57 | 6 GeV | None |\n",
    "| 2 | 43 | 6 GeV | None |\n",
    "| 3 | 29 | 6 GeV | None |\n",
    "| 4 | 15 | 6 GeV | None |\n",
    "| 5 | 29 | 2 GeV | None |\n",
    "| 6 | 29 | 4 GeV | None |\n",
    "| 7 | 19 | 6 GeV | None |\n",
    "| 8 | 15 | 6 GeV | ECC a valle|\n"
   ]
  }
 ],
 "metadata": {
  "celltoolbar": "Slideshow",
  "kernelspec": {
   "display_name": "Python 2",
   "language": "python",
   "name": "python2"
  },
  "language_info": {
   "codemirror_mode": {
    "name": "ipython",
    "version": 2
   },
   "file_extension": ".py",
   "mimetype": "text/x-python",
   "name": "python",
   "nbconvert_exporter": "python",
   "pygments_lexer": "ipython2",
   "version": "2.7.14"
  }
 },
 "nbformat": 4,
 "nbformat_minor": 2
}
